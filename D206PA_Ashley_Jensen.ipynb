{
 "cells": [
  {
   "cell_type": "markdown",
   "id": "21435936-82f0-4246-914b-1c2fe2bac8b7",
   "metadata": {},
   "source": [
    "# <center>Data Cleaning</center><a class=\"jp-toc-ignore\"></a>\n",
    "## <center>D206 Performance Assessment<center><a class=\"jp-toc-ignore\"></a>\n",
    "<br>\n",
    "\n",
    "#### <center>Ashley Jensen<center><a class=\"jp-toc-ignore\"></a>\n",
    "#### <center>Western Governors University<center><a class=\"jp-toc-ignore\"></a>\n",
    "#### <center>Instructor: Eric Straw</center><a class=\"jp-toc-ignore\"></a>\n",
    "<br>"
   ]
  },
  {
   "cell_type": "markdown",
   "id": "e16bcd8e-5163-483b-ad4e-356f6f21bbea",
   "metadata": {},
   "source": [
    "## Part I. Research Question"
   ]
  },
  {
   "cell_type": "markdown",
   "id": "982d1c37-b2dc-4517-8d25-6eb623199161",
   "metadata": {
    "jp-MarkdownHeadingCollapsed": true
   },
   "source": [
    "### A. Question"
   ]
  },
  {
   "cell_type": "markdown",
   "id": "7641c816-21ed-4af4-814e-5bacbb32702e",
   "metadata": {
    "jp-MarkdownHeadingCollapsed": true
   },
   "source": [
    "__What leads a customer to discontinue service?__\n",
    "\n",
    "&emsp;The churn data set is a 50 variable, 10,000 row set of data provided by a telecommunications company with customers throughout the United States. This data consists of customer account and demographic information, services that each customers has signed up for, and if they have chosen to discontinue service in the last month. Using the churn data set, we seek to find patterns that may appear before a customer discontinues service. For instance, by analyzing such variables as system outage lengths and equipment failures, the customer's monthly billing rate, and the number of services they are signed up for before cancellation, among others, we can begin to formulate the story that builds before cancellation. Through this discovery, the company can shape a plan to be proactive regarding customer retention."
   ]
  },
  {
   "cell_type": "markdown",
   "id": "c2fe065c-007c-4296-b309-d28edd7f9a4a",
   "metadata": {
    "jp-MarkdownHeadingCollapsed": true
   },
   "source": [
    "### B. The Churn Data Set"
   ]
  },
  {
   "cell_type": "markdown",
   "id": "99ebb2a8-a343-495c-9e72-5075b9f98e89",
   "metadata": {},
   "source": [
    "| Variable Name | Data Type | Description/Definition | Example | \n",
    "|:--------|:--------|:--------|:--------|\n",
    "| CaseOrder | Quantitative | Numeric variable to hold original order of raw data | 10 |\n",
    "| Customer_id | Qualitative | Unique alphanumeric ID given to each customer | I676080 | \n",
    "| Interaction, UID | Qualitative | Unique alphanumeric ID that represents transactions, support, and sign-ups| 86f17e4d-2c24-4b70-a6ec-dddf0609dbaa |\n",
    "| City | Qualitative | City stated on billing statement | Cincinnati |\n",
    "| State | Qualitative | State stated on billing statement | OH |\n",
    "| County | Qualitative | County stated on billing statement | Hamilton |\n",
    "| Zip | Qualitative | Zip code stated on billing statement | 45237|\n",
    "| Lat | Quantitative | Latitude of address stated on billing statement | 39.19296 |\n",
    "| Lng | Quantitative | Longitude of address stated on billing statement | -84.4523 |\n",
    "| Population | Quantitative | Population, via census data, within a one-mile radius of the address stated on the billing statement | 20193 |\n",
    "| Area | Qualitative | Rural/Urban/Suburban: Area type, via census data, of address stated on billing statement | Rural |\n",
    "| TimeZone | Qualitative | Time zone as stated at sign-up | America/New_York |\n",
    "| Job | Qualitative | Job of invoiced party as stated at sign-up | Museum education officer |\n",
    "| Children | Quantitative | Number of children as stated at sign-up | 0 |\n",
    "| Age | Quantitative | Age as stated at sign-up | 86 |\n",
    "| Education | Qualitative | Highest degree held at sign-up | GED or Alternative Credential |\n",
    "| Employment | Qualitative | Employment status at sign-up | Full Time |\n",
    "| Income | Quantitative | Income as stated at sign-up | 50231.4 |\n",
    "| Marital | Qualitative | Marital status as stated at sign-up | Married |\n",
    "| Gender | Qualitative | Male/Female/Nonbinary: Self-identification of gender | Female |\n",
    "| Churn | Qualitative | Yes/No: has the customer cancelled service in the last 30 days | No |\n",
    "| Outage_sec_perweek | Quantitative | Average seconds of outage in neighborhood of service | 9.230409493 |\n",
    "| Email | Quantitative | Marketing or correspondence emails sent in last year | 18 |\n",
    "| Contacts | Quantitative | Technical support contacts initiated by customer | 1 |\n",
    "| Yearly_equip_failure | Quantitative | Equipment failure leading to reset/replacement in last year | 0 |\n",
    "| Techie | Qualitative | Yes/No: reported being technically inclined at sign-up | No |\n",
    "| Contract | Qualitative | Month-to-month/One Year/Two Year: contract term | Two Year |\n",
    "| Port_modem | Qualitative | Yes/No: Has portable modem | Yes |\n",
    "| Tablet | Qualitative | Yes/No: Has tablet such as iPad, Surface, etc. | No |\n",
    "| InternetService | Qualitative | DSL/Fiber Optic/None: Internet service provider | Fiber Optic |\n",
    "| Phone | Qualitative | Yes/No: Has phone service | Yes |\n",
    "| Multiple | Qualitative | Yes/No: Has multiple lines  | No |\n",
    "| OnlineSecurity | Qualitative | Yes/No: Has online security add-on | Yes |\n",
    "| OnlineBackup | Qualitative | Yes/No: Has online backup add-on | No |\n",
    "| DeviceProtection | Qualitative | Yes/No: Has device protection add-on | Yes |\n",
    "| TechSupport | Qualitative | Yes/No: Has technical support add-on | No |\n",
    "| StreamingTV | Qualitative | Yes/No: Has streaming TV | No |\n",
    "| StreamingMovies | Qualitative | Yes/No: Has streaming movies | Yes |\n",
    "| PaperlessBilling | Qualitative | Yes/No: Has paperless billing | Yes |\n",
    "| PaymentMethod | Qualitative | Electronic Check/Mailed Check/Bank (Automatic)/Credit Card (Automatic): Payment Method| Mailed Check |\n",
    "| Tenure | Quantitative | Months with provider | 3.422086139 |\n",
    "| MonthlyCharge | Quantitative | Monthly charge, as average per customer | 163.0052796 |\n",
    "| Bandwidth_GB_Year | Quantitative | Yearly GB data used, as average per customer | 508.7637913 |\n",
    "| item1 | Qualitative | 1-8: Timely response importance rating (1 = most important, 8 = least important) | 2 |\n",
    "| item2 | Qualitative | 1-8: Timely fixes importance rating (1 = most important, 8 = least important) | 2 |\n",
    "| item3 | Qualitative | 1-8: Timely replacements importance rating (1 = most important, 8 = least important) | 2 |\n",
    "| item4 | Qualitative | 1-8: Reliability importance rating (1 = most important, 8 = least important) | 2 |\n",
    "| item5 | Qualitative | 1-8: Options importance rating (1 = most important, 8 = least important) | 5 |\n",
    "| item6 | Qualitative | 1-8: Respectful response importance rating (1 = most important, 8 = least important) | 2 |\n",
    "| item7 | Qualitative | 1-8: Courteous exchange importance rating (1 = most important, 8 = least important) | 3 |\n",
    "| item8 | Qualitative | 1-8: Evidence of active listening importance rating (1 = most important, 8 = least important) | 3 |"
   ]
  },
  {
   "cell_type": "markdown",
   "id": "6468728f-8c73-498f-9b32-7f161e40daec",
   "metadata": {},
   "source": [
    "## Part II: Data-Cleaning Plan"
   ]
  },
  {
   "cell_type": "markdown",
   "id": "c44ece05-f07f-4e06-8cd6-31b56a3d5c42",
   "metadata": {},
   "source": [
    "### C.   The Plan, Justifications, and Data Quality Assessment Code"
   ]
  },
  {
   "cell_type": "markdown",
   "id": "29574cdf-4f32-4fe1-b814-99646ab34662",
   "metadata": {
    "jp-MarkdownHeadingCollapsed": true
   },
   "source": [
    "#### 1.  The Plan"
   ]
  },
  {
   "cell_type": "markdown",
   "id": "f4aabd8d-6bd4-4fe9-a738-ef4acda183d5",
   "metadata": {},
   "source": [
    "&emsp;To detect data quality issues within the Churn data set, the data contained in a CSV file will be loaded into Jupyter Notebook with the Pandas, NumPy, Matplotlib, and Seaborn packages imported. The `read_csv()`, `head()`, and `info()` functions will be used to import the data, verify import success, and initial profiling. The first step towards cleaning the loaded data will be to detect duplicate records. Using the `duplicated()` function, chained with the `value_counts()` function, a count of the total duplicated rows in the data set will be returned. \n",
    "\n",
    "&emsp;Next, to detect missing or null values, another set of chained functions/commands, `isna()` and `mean()* 100`, is called on the data. This set of functions will return each variable and what percentage of null values, if any, exist within them. Moving on to detecting outliers, the `hist()` function, coupled with `show()`, will be used to view a histogram of all quantitative variables except for item1, item2, item3, item4, item5, item6, item7, and item8. Should the presence of outliers be apparent, `boxplot()` will be called to give additional insight into their presence. The `value_counts()` function will be used on item1, item2, item3, item4, item5, item6, item7, and item8, to make apparent any unexpected values.\n",
    "\n",
    "&emsp;The last activity will be re-expressing the set's categorical variables. While not technically considered a data cleaning activity as it falls in the realm of data wrangling (Western Governors University, Getting Started with D206 | Re-expression of Categorical Variables), the first step in re-expression is finding unique values, which can lend a hand in cleaning and extra verification of expected variable value ranges. The `unique()` function will return an array of all unique values contained in the variable, making unexpected values easier to spot. "
   ]
  },
  {
   "cell_type": "markdown",
   "id": "793117ef-7c00-4b20-9223-09006961d901",
   "metadata": {
    "jp-MarkdownHeadingCollapsed": true
   },
   "source": [
    "#### 2.  Justification of Plan"
   ]
  },
  {
   "cell_type": "markdown",
   "id": "fd69dc62-986f-420b-8446-75b91084b93b",
   "metadata": {},
   "source": [
    "&emsp;The plan was put together after a cursory inspection of the CSV file and data dictionary revealed over 10,000 rows, qualitative and quantitative values, and fields filled with \"N/A\" values. The number of records in the data set warranted a closer look by importing the CSV file into a notebook and performing various treatment methods on the data set as a whole and per individual variable or row as needed. With the required packages (Pandas, NumPy, Matplotlib, and Seaborn) imported, the data is loaded into a dataframe using `read_csv()` and verified and profiled through the `head()` and `info()` functions.  The `head()` function outputs the first five rows of the imported data to confirm import success, and `info()` outputs a list of all variables. \n",
    "    \n",
    "&emsp;To begin, a check for duplicate rows is warranted to avoid treating superfluous data. Using the `duplicated()` function checks the data set for rows that are duplicates and returns a value of True (duplicate) or False (not duplicate). Chaining the `value_counts()` function onto the end outputs the final count of True and False values. \n",
    "\n",
    "&emsp;Following the detection of duplicate rows, it is necessary to detect null or missing values using the `isna()` and `mean()` functions. The `isna()` function checks each field for null values and returns a same-sized object of True (null) and False (not null) values (Pandas, Pandas.dataframe.isna). Used in conjunction with `mean() * 100`, the average is calculated and multiplied by 100 to output the percentage of nulls present per variable, which can then be used to dictate treatment. \n",
    "\n",
    "&emsp;When detecting outliers for quantitative variables, the simplest way is to examine a histogram of the distribution of a given variable. The `hist()` function, combined with `show()`, is used to output a histogram to visually analyze the distribution of the values and make known any obvious outliers.  If the histogram is inconclusive or highlights obvious outliers, a boxplot via `boxplot()` gives a deeper understanding of the outliers and their relationship to the distribution. The `boxplot()` visual clearly shows where egregious outliers begin and can lend a hand in writing queries against the data to determine the exact amount of outliers and their values. The `value_counts()` function is also used in exposing outliers; in this case, it is helpful to determine if any unexpected values have been recorded in a series of survey result variables. The `value_counts()` function returns each value contained in the named variable alongside the count of each value.\n",
    "\n",
    "&emsp;Finding all unique values in a categorical variable is necessary for the data wrangling portion, re-expression, while also making apparent any unacceptable inputs. Calling the `unique()` function on each categorical variable needing re-expression, an array of all of its unique values is returned. This lays bare the need for treatment of extraneous values and prepares the data for further modeling and analysis."
   ]
  },
  {
   "cell_type": "markdown",
   "id": "6fec067f-06f6-4a0b-80a2-6358f36b1657",
   "metadata": {
    "jp-MarkdownHeadingCollapsed": true
   },
   "source": [
    "#### 3.  Justification of Programming Language and Packages"
   ]
  },
  {
   "cell_type": "markdown",
   "id": "b4bb6fd3-048f-4114-8e0b-02afb654d93c",
   "metadata": {},
   "source": [
    "&emsp;The language used in this data-cleaning notebook is Python, a versatile programming language that can be utilized across data analysis, web and system scripting, and software development (R or python 2023). Its human readability makes it an ideal language to work with, while its consistent syntax makes it easier to pick up on than some of its counterparts. Being open-source makes Python readily available and easily researched, with great documentation and abundant tutorials. Python has many built-in statistical methods essential for data analysis and is easily incorporated into web applications and databases (R or python 2023).  \n",
    "\n",
    "&emsp;Python has helpful packages for analyzing data, a few of which are used for this data-cleaning project. The NumPy and Pandas packages perform fundamental tasks such as importing the data into a dataframe, initial profiling of the data, and detection, counting, and replacing duplicate and null values. Matplotlib is a package used extensively for creating visuals, used here to produce histograms, and is extended by another package called Seaborn. The Seaborn package extends the MatplotLib package (Seaborn, Statistical Data Visualization) by allowing for enhanced visual graphics and is used in this project to produce boxplots.\n",
    "\n",
    "&emsp;Python was chosen over R because of its general-purpose nature. While R is a valuable language for data analysis, its syntax tends to be messier and inconsistent compared to Python's, meaning using new functions and libraries can have a steeper learning curve (R or python 2023). Python's portability was also a significant factor in choosing it over R, as diving into its ecosystem can open doors to many applications. In contrast, R is built to be specifically valuable for statistical analysis and does not have as wide a range of use cases."
   ]
  },
  {
   "cell_type": "markdown",
   "id": "927fbb0c-2f7d-4c63-abca-f1f55aefaf3e",
   "metadata": {},
   "source": [
    "#### 4.  Data Quality Assessment Code"
   ]
  },
  {
   "cell_type": "markdown",
   "id": "2fde5ad9-0a48-456d-8507-63d9b715018a",
   "metadata": {},
   "source": [
    "###### Import Packages"
   ]
  },
  {
   "cell_type": "code",
   "execution_count": 4,
   "id": "1371c817-59d4-4a1a-bd87-ef20e7ea52d8",
   "metadata": {},
   "outputs": [],
   "source": [
    "# Import necessary packages \n",
    "# (Western Governors University, Getting Started with D206 | Detecting and Treating Missing Values)\n",
    "import pandas as pd\n",
    "import numpy as np\n",
    "import matplotlib.pyplot as plt \n",
    "import seaborn "
   ]
  },
  {
   "cell_type": "markdown",
   "id": "5b275b11-a985-43e9-b629-0f156a4404f4",
   "metadata": {},
   "source": [
    "###### Import Data"
   ]
  },
  {
   "cell_type": "code",
   "execution_count": 5,
   "id": "0bfe5095-be50-447b-8112-d7ca5210b031",
   "metadata": {},
   "outputs": [
    {
     "data": {
      "text/html": [
       "<div>\n",
       "<style scoped>\n",
       "    .dataframe tbody tr th:only-of-type {\n",
       "        vertical-align: middle;\n",
       "    }\n",
       "\n",
       "    .dataframe tbody tr th {\n",
       "        vertical-align: top;\n",
       "    }\n",
       "\n",
       "    .dataframe thead th {\n",
       "        text-align: right;\n",
       "    }\n",
       "</style>\n",
       "<table border=\"1\" class=\"dataframe\">\n",
       "  <thead>\n",
       "    <tr style=\"text-align: right;\">\n",
       "      <th></th>\n",
       "      <th>CaseOrder</th>\n",
       "      <th>Customer_id</th>\n",
       "      <th>Interaction</th>\n",
       "      <th>City</th>\n",
       "      <th>State</th>\n",
       "      <th>County</th>\n",
       "      <th>Zip</th>\n",
       "      <th>Lat</th>\n",
       "      <th>Lng</th>\n",
       "      <th>Population</th>\n",
       "      <th>...</th>\n",
       "      <th>MonthlyCharge</th>\n",
       "      <th>Bandwidth_GB_Year</th>\n",
       "      <th>item1</th>\n",
       "      <th>item2</th>\n",
       "      <th>item3</th>\n",
       "      <th>item4</th>\n",
       "      <th>item5</th>\n",
       "      <th>item6</th>\n",
       "      <th>item7</th>\n",
       "      <th>item8</th>\n",
       "    </tr>\n",
       "  </thead>\n",
       "  <tbody>\n",
       "    <tr>\n",
       "      <th>1</th>\n",
       "      <td>1</td>\n",
       "      <td>K409198</td>\n",
       "      <td>aa90260b-4141-4a24-8e36-b04ce1f4f77b</td>\n",
       "      <td>Point Baker</td>\n",
       "      <td>AK</td>\n",
       "      <td>Prince of Wales-Hyder</td>\n",
       "      <td>99927</td>\n",
       "      <td>56.25100</td>\n",
       "      <td>-133.37571</td>\n",
       "      <td>38</td>\n",
       "      <td>...</td>\n",
       "      <td>171.449762</td>\n",
       "      <td>904.536110</td>\n",
       "      <td>5</td>\n",
       "      <td>5</td>\n",
       "      <td>5</td>\n",
       "      <td>3</td>\n",
       "      <td>4</td>\n",
       "      <td>4</td>\n",
       "      <td>3</td>\n",
       "      <td>4</td>\n",
       "    </tr>\n",
       "    <tr>\n",
       "      <th>2</th>\n",
       "      <td>2</td>\n",
       "      <td>S120509</td>\n",
       "      <td>fb76459f-c047-4a9d-8af9-e0f7d4ac2524</td>\n",
       "      <td>West Branch</td>\n",
       "      <td>MI</td>\n",
       "      <td>Ogemaw</td>\n",
       "      <td>48661</td>\n",
       "      <td>44.32893</td>\n",
       "      <td>-84.24080</td>\n",
       "      <td>10446</td>\n",
       "      <td>...</td>\n",
       "      <td>242.948015</td>\n",
       "      <td>800.982766</td>\n",
       "      <td>3</td>\n",
       "      <td>4</td>\n",
       "      <td>3</td>\n",
       "      <td>3</td>\n",
       "      <td>4</td>\n",
       "      <td>3</td>\n",
       "      <td>4</td>\n",
       "      <td>4</td>\n",
       "    </tr>\n",
       "    <tr>\n",
       "      <th>3</th>\n",
       "      <td>3</td>\n",
       "      <td>K191035</td>\n",
       "      <td>344d114c-3736-4be5-98f7-c72c281e2d35</td>\n",
       "      <td>Yamhill</td>\n",
       "      <td>OR</td>\n",
       "      <td>Yamhill</td>\n",
       "      <td>97148</td>\n",
       "      <td>45.35589</td>\n",
       "      <td>-123.24657</td>\n",
       "      <td>3735</td>\n",
       "      <td>...</td>\n",
       "      <td>159.440398</td>\n",
       "      <td>2054.706961</td>\n",
       "      <td>4</td>\n",
       "      <td>4</td>\n",
       "      <td>2</td>\n",
       "      <td>4</td>\n",
       "      <td>4</td>\n",
       "      <td>3</td>\n",
       "      <td>3</td>\n",
       "      <td>3</td>\n",
       "    </tr>\n",
       "    <tr>\n",
       "      <th>4</th>\n",
       "      <td>4</td>\n",
       "      <td>D90850</td>\n",
       "      <td>abfa2b40-2d43-4994-b15a-989b8c79e311</td>\n",
       "      <td>Del Mar</td>\n",
       "      <td>CA</td>\n",
       "      <td>San Diego</td>\n",
       "      <td>92014</td>\n",
       "      <td>32.96687</td>\n",
       "      <td>-117.24798</td>\n",
       "      <td>13863</td>\n",
       "      <td>...</td>\n",
       "      <td>120.249493</td>\n",
       "      <td>2164.579412</td>\n",
       "      <td>4</td>\n",
       "      <td>4</td>\n",
       "      <td>4</td>\n",
       "      <td>2</td>\n",
       "      <td>5</td>\n",
       "      <td>4</td>\n",
       "      <td>3</td>\n",
       "      <td>3</td>\n",
       "    </tr>\n",
       "    <tr>\n",
       "      <th>5</th>\n",
       "      <td>5</td>\n",
       "      <td>K662701</td>\n",
       "      <td>68a861fd-0d20-4e51-a587-8a90407ee574</td>\n",
       "      <td>Needville</td>\n",
       "      <td>TX</td>\n",
       "      <td>Fort Bend</td>\n",
       "      <td>77461</td>\n",
       "      <td>29.38012</td>\n",
       "      <td>-95.80673</td>\n",
       "      <td>11352</td>\n",
       "      <td>...</td>\n",
       "      <td>150.761216</td>\n",
       "      <td>271.493436</td>\n",
       "      <td>4</td>\n",
       "      <td>4</td>\n",
       "      <td>4</td>\n",
       "      <td>3</td>\n",
       "      <td>4</td>\n",
       "      <td>4</td>\n",
       "      <td>4</td>\n",
       "      <td>5</td>\n",
       "    </tr>\n",
       "  </tbody>\n",
       "</table>\n",
       "<p>5 rows × 51 columns</p>\n",
       "</div>"
      ],
      "text/plain": [
       "   CaseOrder Customer_id                           Interaction         City  \\\n",
       "1          1     K409198  aa90260b-4141-4a24-8e36-b04ce1f4f77b  Point Baker   \n",
       "2          2     S120509  fb76459f-c047-4a9d-8af9-e0f7d4ac2524  West Branch   \n",
       "3          3     K191035  344d114c-3736-4be5-98f7-c72c281e2d35      Yamhill   \n",
       "4          4      D90850  abfa2b40-2d43-4994-b15a-989b8c79e311      Del Mar   \n",
       "5          5     K662701  68a861fd-0d20-4e51-a587-8a90407ee574    Needville   \n",
       "\n",
       "  State                 County    Zip       Lat        Lng  Population  ...  \\\n",
       "1    AK  Prince of Wales-Hyder  99927  56.25100 -133.37571          38  ...   \n",
       "2    MI                 Ogemaw  48661  44.32893  -84.24080       10446  ...   \n",
       "3    OR                Yamhill  97148  45.35589 -123.24657        3735  ...   \n",
       "4    CA              San Diego  92014  32.96687 -117.24798       13863  ...   \n",
       "5    TX              Fort Bend  77461  29.38012  -95.80673       11352  ...   \n",
       "\n",
       "  MonthlyCharge Bandwidth_GB_Year item1  item2  item3 item4 item5  item6  \\\n",
       "1    171.449762        904.536110     5      5      5     3     4      4   \n",
       "2    242.948015        800.982766     3      4      3     3     4      3   \n",
       "3    159.440398       2054.706961     4      4      2     4     4      3   \n",
       "4    120.249493       2164.579412     4      4      4     2     5      4   \n",
       "5    150.761216        271.493436     4      4      4     3     4      4   \n",
       "\n",
       "  item7 item8  \n",
       "1     3     4  \n",
       "2     4     4  \n",
       "3     3     3  \n",
       "4     3     3  \n",
       "5     4     5  \n",
       "\n",
       "[5 rows x 51 columns]"
      ]
     },
     "execution_count": 5,
     "metadata": {},
     "output_type": "execute_result"
    }
   ],
   "source": [
    "# Load in Churn data set, setting \"CaseOrder\" as the index, and output the first five rows to verify import success\n",
    "# (Bobbitt, 2022)\n",
    "churn = pd.read_csv('churn_raw_data.csv', index_col = [0])\n",
    "# Check for import success\n",
    "churn.head()"
   ]
  },
  {
   "cell_type": "markdown",
   "id": "b9ce1b96-5ec0-4106-b5cb-783a603e7b17",
   "metadata": {
    "jp-MarkdownHeadingCollapsed": true
   },
   "source": [
    "###### Profile Data"
   ]
  },
  {
   "cell_type": "code",
   "execution_count": 6,
   "id": "500c562e-9360-44b1-87af-310442a77f34",
   "metadata": {},
   "outputs": [
    {
     "name": "stdout",
     "output_type": "stream",
     "text": [
      "<class 'pandas.core.frame.DataFrame'>\n",
      "Int64Index: 10000 entries, 1 to 10000\n",
      "Data columns (total 51 columns):\n",
      " #   Column                Non-Null Count  Dtype  \n",
      "---  ------                --------------  -----  \n",
      " 0   CaseOrder             10000 non-null  int64  \n",
      " 1   Customer_id           10000 non-null  object \n",
      " 2   Interaction           10000 non-null  object \n",
      " 3   City                  10000 non-null  object \n",
      " 4   State                 10000 non-null  object \n",
      " 5   County                10000 non-null  object \n",
      " 6   Zip                   10000 non-null  int64  \n",
      " 7   Lat                   10000 non-null  float64\n",
      " 8   Lng                   10000 non-null  float64\n",
      " 9   Population            10000 non-null  int64  \n",
      " 10  Area                  10000 non-null  object \n",
      " 11  Timezone              10000 non-null  object \n",
      " 12  Job                   10000 non-null  object \n",
      " 13  Children              7505 non-null   float64\n",
      " 14  Age                   7525 non-null   float64\n",
      " 15  Education             10000 non-null  object \n",
      " 16  Employment            10000 non-null  object \n",
      " 17  Income                7510 non-null   float64\n",
      " 18  Marital               10000 non-null  object \n",
      " 19  Gender                10000 non-null  object \n",
      " 20  Churn                 10000 non-null  object \n",
      " 21  Outage_sec_perweek    10000 non-null  float64\n",
      " 22  Email                 10000 non-null  int64  \n",
      " 23  Contacts              10000 non-null  int64  \n",
      " 24  Yearly_equip_failure  10000 non-null  int64  \n",
      " 25  Techie                7523 non-null   object \n",
      " 26  Contract              10000 non-null  object \n",
      " 27  Port_modem            10000 non-null  object \n",
      " 28  Tablet                10000 non-null  object \n",
      " 29  InternetService       10000 non-null  object \n",
      " 30  Phone                 8974 non-null   object \n",
      " 31  Multiple              10000 non-null  object \n",
      " 32  OnlineSecurity        10000 non-null  object \n",
      " 33  OnlineBackup          10000 non-null  object \n",
      " 34  DeviceProtection      10000 non-null  object \n",
      " 35  TechSupport           9009 non-null   object \n",
      " 36  StreamingTV           10000 non-null  object \n",
      " 37  StreamingMovies       10000 non-null  object \n",
      " 38  PaperlessBilling      10000 non-null  object \n",
      " 39  PaymentMethod         10000 non-null  object \n",
      " 40  Tenure                9069 non-null   float64\n",
      " 41  MonthlyCharge         10000 non-null  float64\n",
      " 42  Bandwidth_GB_Year     8979 non-null   float64\n",
      " 43  item1                 10000 non-null  int64  \n",
      " 44  item2                 10000 non-null  int64  \n",
      " 45  item3                 10000 non-null  int64  \n",
      " 46  item4                 10000 non-null  int64  \n",
      " 47  item5                 10000 non-null  int64  \n",
      " 48  item6                 10000 non-null  int64  \n",
      " 49  item7                 10000 non-null  int64  \n",
      " 50  item8                 10000 non-null  int64  \n",
      "dtypes: float64(9), int64(14), object(28)\n",
      "memory usage: 4.0+ MB\n"
     ]
    }
   ],
   "source": [
    "# Initial data profiling to get an idea of the variables contained in the data\n",
    "# (Western Governors University, Getting Started with D206 | Data Cleaning Essentials)\n",
    "churn.info()"
   ]
  },
  {
   "cell_type": "markdown",
   "id": "9b833430-cd40-4163-8140-7f35e43b1096",
   "metadata": {
    "jp-MarkdownHeadingCollapsed": true
   },
   "source": [
    "###### Detect Duplicates"
   ]
  },
  {
   "cell_type": "code",
   "execution_count": 7,
   "id": "17b78324-06ca-4ef8-85bd-9e839f663f56",
   "metadata": {},
   "outputs": [
    {
     "data": {
      "text/plain": [
       "False    10000\n",
       "dtype: int64"
      ]
     },
     "execution_count": 7,
     "metadata": {},
     "output_type": "execute_result"
    }
   ],
   "source": [
    "# Check for and count duplicate rows \n",
    "# (Western Governors University, Getting Started with D206 | Detecting and Treating Duplicates)\n",
    "churn.duplicated().value_counts()"
   ]
  },
  {
   "cell_type": "markdown",
   "id": "a7f802b5-7dde-423b-9b7d-80a52838d026",
   "metadata": {
    "jp-MarkdownHeadingCollapsed": true
   },
   "source": [
    "###### Detect Null Values"
   ]
  },
  {
   "cell_type": "code",
   "execution_count": 8,
   "id": "6a4f9735-f217-4d2a-b5a0-a83d0649a494",
   "metadata": {},
   "outputs": [
    {
     "data": {
      "text/plain": [
       "CaseOrder                0.00\n",
       "Customer_id              0.00\n",
       "Interaction              0.00\n",
       "City                     0.00\n",
       "State                    0.00\n",
       "County                   0.00\n",
       "Zip                      0.00\n",
       "Lat                      0.00\n",
       "Lng                      0.00\n",
       "Population               0.00\n",
       "Area                     0.00\n",
       "Timezone                 0.00\n",
       "Job                      0.00\n",
       "Children                24.95\n",
       "Age                     24.75\n",
       "Education                0.00\n",
       "Employment               0.00\n",
       "Income                  24.90\n",
       "Marital                  0.00\n",
       "Gender                   0.00\n",
       "Churn                    0.00\n",
       "Outage_sec_perweek       0.00\n",
       "Email                    0.00\n",
       "Contacts                 0.00\n",
       "Yearly_equip_failure     0.00\n",
       "Techie                  24.77\n",
       "Contract                 0.00\n",
       "Port_modem               0.00\n",
       "Tablet                   0.00\n",
       "InternetService          0.00\n",
       "Phone                   10.26\n",
       "Multiple                 0.00\n",
       "OnlineSecurity           0.00\n",
       "OnlineBackup             0.00\n",
       "DeviceProtection         0.00\n",
       "TechSupport              9.91\n",
       "StreamingTV              0.00\n",
       "StreamingMovies          0.00\n",
       "PaperlessBilling         0.00\n",
       "PaymentMethod            0.00\n",
       "Tenure                   9.31\n",
       "MonthlyCharge            0.00\n",
       "Bandwidth_GB_Year       10.21\n",
       "item1                    0.00\n",
       "item2                    0.00\n",
       "item3                    0.00\n",
       "item4                    0.00\n",
       "item5                    0.00\n",
       "item6                    0.00\n",
       "item7                    0.00\n",
       "item8                    0.00\n",
       "dtype: float64"
      ]
     },
     "execution_count": 8,
     "metadata": {},
     "output_type": "execute_result"
    }
   ],
   "source": [
    "# Find the percentage of missing values per variable to determine the treatment \n",
    "# (Petrou, 2019)\n",
    "churn.isna().mean() * 100 "
   ]
  },
  {
   "cell_type": "markdown",
   "id": "e9dad04e-af5c-494d-bbe7-ae7da11493d0",
   "metadata": {
    "jp-MarkdownHeadingCollapsed": true
   },
   "source": [
    "###### Detect Outliers"
   ]
  },
  {
   "cell_type": "code",
   "execution_count": 9,
   "id": "8c57eedf-5bf6-404f-8110-80cbb724777d",
   "metadata": {},
   "outputs": [
    {
     "data": {
      "image/png": "[encoded data removed]",
      "text/plain": [
       "<Figure size 640x480 with 1 Axes>"
      ]
     },
     "metadata": {},
     "output_type": "display_data"
    },
    {
     "data": {
      "image/png": "[encoded data removed]",
      "text/plain": [
       "<Figure size 640x480 with 1 Axes>"
      ]
     },
     "metadata": {},
     "output_type": "display_data"
    }
   ],
   "source": [
    "# Check quantitative variable's distributions for obvious outliers with a histogram, and dig deeper with a boxplot if necessary\n",
    "# (Western Governors University, Getting Started with D206 | Detecting and Treating Outliers)\n",
    "\n",
    "# Children Histogram\n",
    "plt.hist(churn['Children'])\n",
    "plt.show()\n",
    "\n",
    "# Children Boxplot\n",
    "boxplot = seaborn.boxplot(x = 'Children', data = churn)"
   ]
  },
  {
   "cell_type": "code",
   "execution_count": 10,
   "id": "8f6c56fa-ec19-49ea-8461-f59c0a90aa93",
   "metadata": {},
   "outputs": [
    {
     "data": {
      "image/png": "[encoded data removed]",
      "text/plain": [
       "<Figure size 640x480 with 1 Axes>"
      ]
     },
     "metadata": {},
     "output_type": "display_data"
    }
   ],
   "source": [
    "# Age Histogram\n",
    "plt.hist(churn['Age'])\n",
    "plt.show()"
   ]
  },
  {
   "cell_type": "code",
   "execution_count": 11,
   "id": "4ae45433-8c9f-4073-abd8-316e845c091f",
   "metadata": {},
   "outputs": [
    {
     "data": {
      "image/png": "[encoded data removed]",
      "text/plain": [
       "<Figure size 640x480 with 1 Axes>"
      ]
     },
     "metadata": {},
     "output_type": "display_data"
    },
    {
     "data": {
      "image/png": "[encoded data removed]",
      "text/plain": [
       "<Figure size 640x480 with 1 Axes>"
      ]
     },
     "metadata": {},
     "output_type": "display_data"
    }
   ],
   "source": [
    "# Income Histogram\n",
    "plt.hist(churn['Income'])\n",
    "plt.show()\n",
    "\n",
    "# Income Boxplot\n",
    "boxplot = seaborn.boxplot(x = 'Income', data = churn)"
   ]
  },
  {
   "cell_type": "code",
   "execution_count": 12,
   "id": "125f9c3f-cc40-4868-88dc-c2aff86b2060",
   "metadata": {},
   "outputs": [
    {
     "data": {
      "image/png": "[encoded data removed]",
      "text/plain": [
       "<Figure size 640x480 with 1 Axes>"
      ]
     },
     "metadata": {},
     "output_type": "display_data"
    },
    {
     "data": {
      "image/png": "[encoded data removed]",
      "text/plain": [
       "<Figure size 640x480 with 1 Axes>"
      ]
     },
     "metadata": {},
     "output_type": "display_data"
    }
   ],
   "source": [
    "# Outage_sec_perweek Histogram\n",
    "plt.hist(churn['Outage_sec_perweek'])\n",
    "plt.show()\n",
    "\n",
    "# Outage_sec_perweek Boxplot\n",
    "boxplot = seaborn.boxplot(x = 'Outage_sec_perweek', data = churn) "
   ]
  },
  {
   "cell_type": "code",
   "execution_count": 13,
   "id": "daced74d-38ec-4da3-93b5-3614251f77a7",
   "metadata": {},
   "outputs": [
    {
     "data": {
      "image/png": "[encoded data removed]",
      "text/plain": [
       "<Figure size 640x480 with 1 Axes>"
      ]
     },
     "metadata": {},
     "output_type": "display_data"
    },
    {
     "data": {
      "image/png": "[encoded data removed]",
      "text/plain": [
       "<Figure size 640x480 with 1 Axes>"
      ]
     },
     "metadata": {},
     "output_type": "display_data"
    }
   ],
   "source": [
    "# Email Histogram\n",
    "plt.hist(churn['Email'])\n",
    "plt.show()\n",
    "\n",
    "# Email Boxplot\n",
    "boxplot = seaborn.boxplot(x = 'Email', data = churn)"
   ]
  },
  {
   "cell_type": "code",
   "execution_count": 14,
   "id": "5830ef77-f5c7-4915-9905-7b1490fcf49a",
   "metadata": {},
   "outputs": [
    {
     "data": {
      "image/png": "[encoded data removed]",
      "text/plain": [
       "<Figure size 640x480 with 1 Axes>"
      ]
     },
     "metadata": {},
     "output_type": "display_data"
    },
    {
     "data": {
      "image/png": "[encoded data removed]",
      "text/plain": [
       "<Figure size 640x480 with 1 Axes>"
      ]
     },
     "metadata": {},
     "output_type": "display_data"
    }
   ],
   "source": [
    "# Contacts Histogram\n",
    "plt.hist(churn['Contacts'])\n",
    "plt.show()\n",
    "\n",
    "# Contacts Boxplot\n",
    "boxplot = seaborn.boxplot(x = 'Contacts', data = churn)"
   ]
  },
  {
   "cell_type": "code",
   "execution_count": 15,
   "id": "19f30f96-74ed-48aa-9136-c17520a36d60",
   "metadata": {},
   "outputs": [
    {
     "data": {
      "image/png": "[encoded data removed]",
      "text/plain": [
       "<Figure size 640x480 with 1 Axes>"
      ]
     },
     "metadata": {},
     "output_type": "display_data"
    },
    {
     "data": {
      "image/png": "[encoded data removed]",
      "text/plain": [
       "<Figure size 640x480 with 1 Axes>"
      ]
     },
     "metadata": {},
     "output_type": "display_data"
    }
   ],
   "source": [
    "# Yearly_equip_failure Histogram\n",
    "plt.hist(churn['Yearly_equip_failure'])\n",
    "plt.show()\n",
    "\n",
    "# Yearly_equip_failure Boxplot\n",
    "boxplot = seaborn.boxplot(x = 'Yearly_equip_failure', data = churn)"
   ]
  },
  {
   "cell_type": "code",
   "execution_count": 16,
   "id": "18a1c896-8fb9-47bf-a589-b90c4d66ba72",
   "metadata": {},
   "outputs": [
    {
     "data": {
      "image/png": "[encoded data removed]",
      "text/plain": [
       "<Figure size 640x480 with 1 Axes>"
      ]
     },
     "metadata": {},
     "output_type": "display_data"
    }
   ],
   "source": [
    "# Tenure Histogram\n",
    "plt.hist(churn['Tenure'])\n",
    "plt.show()"
   ]
  },
  {
   "cell_type": "code",
   "execution_count": 17,
   "id": "efe75b9b-4528-4a9b-b432-16c05fbb5276",
   "metadata": {},
   "outputs": [
    {
     "data": {
      "image/png": "[encoded data removed]",
      "text/plain": [
       "<Figure size 640x480 with 1 Axes>"
      ]
     },
     "metadata": {},
     "output_type": "display_data"
    },
    {
     "data": {
      "image/png": "[encoded data removed]",
      "text/plain": [
       "<Figure size 640x480 with 1 Axes>"
      ]
     },
     "metadata": {},
     "output_type": "display_data"
    }
   ],
   "source": [
    "# MonthlyCharge Histogram\n",
    "plt.hist(churn['MonthlyCharge'])\n",
    "plt.show()\n",
    "\n",
    "# MonthlyCharge Boxplot\n",
    "boxplot = seaborn.boxplot(x = 'MonthlyCharge', data = churn)"
   ]
  },
  {
   "cell_type": "code",
   "execution_count": 18,
   "id": "23fb04fc-f968-451e-92c1-7aad075ae788",
   "metadata": {},
   "outputs": [
    {
     "data": {
      "image/png": "[encoded data removed]",
      "text/plain": [
       "<Figure size 640x480 with 1 Axes>"
      ]
     },
     "metadata": {},
     "output_type": "display_data"
    }
   ],
   "source": [
    "# Bandwidth_GB_year Histogram\n",
    "plt.hist(churn['Bandwidth_GB_Year'])\n",
    "plt.show()"
   ]
  },
  {
   "cell_type": "code",
   "execution_count": 19,
   "id": "320252ea-a035-4166-adfb-fdf67eae147d",
   "metadata": {},
   "outputs": [
    {
     "data": {
      "text/plain": [
       "3    3448\n",
       "4    3358\n",
       "2    1393\n",
       "5    1359\n",
       "1     224\n",
       "6     199\n",
       "7      19\n",
       "Name: item1, dtype: int64"
      ]
     },
     "execution_count": 19,
     "metadata": {},
     "output_type": "execute_result"
    }
   ],
   "source": [
    "# With ordinal qualitative values, we can get a count of their values to see if there are any obvious unexpected values\n",
    "\n",
    "# Item1 Values\n",
    "# (Ebner, 2021)\n",
    "churn.item1.value_counts()"
   ]
  },
  {
   "cell_type": "code",
   "execution_count": 20,
   "id": "2298fcdf-6b53-4055-a706-55b975793a70",
   "metadata": {},
   "outputs": [
    {
     "data": {
      "text/plain": [
       "3    3415\n",
       "4    3412\n",
       "5    1368\n",
       "2    1360\n",
       "1     217\n",
       "6     215\n",
       "7      13\n",
       "Name: item2, dtype: int64"
      ]
     },
     "execution_count": 20,
     "metadata": {},
     "output_type": "execute_result"
    }
   ],
   "source": [
    "# Item2 Values\n",
    "churn.item2.value_counts()"
   ]
  },
  {
   "cell_type": "code",
   "execution_count": 21,
   "id": "a34ce069-9ec0-4ceb-aa00-ef8dcbe89394",
   "metadata": {},
   "outputs": [
    {
     "data": {
      "text/plain": [
       "3    3435\n",
       "4    3410\n",
       "2    1424\n",
       "5    1313\n",
       "6     203\n",
       "1     202\n",
       "7      12\n",
       "8       1\n",
       "Name: item3, dtype: int64"
      ]
     },
     "execution_count": 21,
     "metadata": {},
     "output_type": "execute_result"
    }
   ],
   "source": [
    "# Item3 Values\n",
    "churn.item3.value_counts()"
   ]
  },
  {
   "cell_type": "code",
   "execution_count": 22,
   "id": "c5662c20-6e8f-431e-8d74-c363e0a023b4",
   "metadata": {},
   "outputs": [
    {
     "data": {
      "text/plain": [
       "4    3452\n",
       "3    3430\n",
       "2    1350\n",
       "5    1335\n",
       "1     221\n",
       "6     203\n",
       "7       9\n",
       "Name: item4, dtype: int64"
      ]
     },
     "execution_count": 22,
     "metadata": {},
     "output_type": "execute_result"
    }
   ],
   "source": [
    "# Item4 Values\n",
    "churn.item4.value_counts()"
   ]
  },
  {
   "cell_type": "code",
   "execution_count": 23,
   "id": "4a9b3fe0-9143-4617-9f42-69393de4516b",
   "metadata": {},
   "outputs": [
    {
     "data": {
      "text/plain": [
       "3    3462\n",
       "4    3417\n",
       "2    1378\n",
       "5    1321\n",
       "1     206\n",
       "6     204\n",
       "7      12\n",
       "Name: item5, dtype: int64"
      ]
     },
     "execution_count": 23,
     "metadata": {},
     "output_type": "execute_result"
    }
   ],
   "source": [
    "# Item5 Values\n",
    "churn.item5.value_counts()"
   ]
  },
  {
   "cell_type": "code",
   "execution_count": 24,
   "id": "f4e27926-4255-4704-a459-25c0364d2e4c",
   "metadata": {},
   "outputs": [
    {
     "data": {
      "text/plain": [
       "3    3445\n",
       "4    3333\n",
       "2    1427\n",
       "5    1382\n",
       "6     210\n",
       "1     190\n",
       "7      12\n",
       "8       1\n",
       "Name: item6, dtype: int64"
      ]
     },
     "execution_count": 24,
     "metadata": {},
     "output_type": "execute_result"
    }
   ],
   "source": [
    "# Item6 Values\n",
    "churn.item6.value_counts()"
   ]
  },
  {
   "cell_type": "code",
   "execution_count": 25,
   "id": "af1802cc-6262-4cda-a2ec-1ee4cc5623bf",
   "metadata": {},
   "outputs": [
    {
     "data": {
      "text/plain": [
       "4    3456\n",
       "3    3446\n",
       "5    1335\n",
       "2    1309\n",
       "6     224\n",
       "1     219\n",
       "7      11\n",
       "Name: item7, dtype: int64"
      ]
     },
     "execution_count": 25,
     "metadata": {},
     "output_type": "execute_result"
    }
   ],
   "source": [
    "# Item7 Values\n",
    "churn.item7.value_counts()"
   ]
  },
  {
   "cell_type": "code",
   "execution_count": 26,
   "id": "dbec69a7-747d-4744-8fb7-5389fecfb96f",
   "metadata": {},
   "outputs": [
    {
     "data": {
      "text/plain": [
       "3    3461\n",
       "4    3400\n",
       "2    1378\n",
       "5    1335\n",
       "1     206\n",
       "6     205\n",
       "7      14\n",
       "8       1\n",
       "Name: item8, dtype: int64"
      ]
     },
     "execution_count": 26,
     "metadata": {},
     "output_type": "execute_result"
    }
   ],
   "source": [
    "# Item8 Values\n",
    "churn.item8.value_counts()"
   ]
  },
  {
   "cell_type": "markdown",
   "id": "8eeedd74-9b6c-4e42-8956-9c361838645a",
   "metadata": {
    "jp-MarkdownHeadingCollapsed": true
   },
   "source": [
    "###### Re-Expression Assessment"
   ]
  },
  {
   "cell_type": "code",
   "execution_count": 27,
   "id": "c7ff996f-6e97-4c8c-bde1-e288fdfe221e",
   "metadata": {
    "scrolled": true
   },
   "outputs": [
    {
     "data": {
      "text/plain": [
       "array([\"Master's Degree\", 'Regular High School Diploma',\n",
       "       'Doctorate Degree', 'No Schooling Completed', \"Associate's Degree\",\n",
       "       \"Bachelor's Degree\", 'Some College, Less than 1 Year',\n",
       "       'GED or Alternative Credential',\n",
       "       'Some College, 1 or More Years, No Degree',\n",
       "       '9th Grade to 12th Grade, No Diploma',\n",
       "       'Nursery School to 8th Grade', 'Professional School Degree'],\n",
       "      dtype=object)"
      ]
     },
     "execution_count": 27,
     "metadata": {},
     "output_type": "execute_result"
    }
   ],
   "source": [
    "# Assessing variables for unique values prior to re-expression, also helps detect any unexpected values\n",
    "# (Western Governors University, Getting Started with D206 | Re-expression of Categorical Variables)\n",
    "\n",
    "# Education Values\n",
    "churn.Education.unique()"
   ]
  },
  {
   "cell_type": "code",
   "execution_count": 28,
   "id": "a04a6b42-b0ca-46da-8562-7b5ed15fe98a",
   "metadata": {},
   "outputs": [
    {
     "data": {
      "text/plain": [
       "array(['No', 'Yes'], dtype=object)"
      ]
     },
     "execution_count": 28,
     "metadata": {},
     "output_type": "execute_result"
    }
   ],
   "source": [
    "# Churn Values\n",
    "churn.Churn.unique()"
   ]
  },
  {
   "cell_type": "code",
   "execution_count": 29,
   "id": "b73516a0-2d89-438e-9c5e-a2f5320914eb",
   "metadata": {},
   "outputs": [
    {
     "data": {
      "text/plain": [
       "array(['No', 'Yes', nan], dtype=object)"
      ]
     },
     "execution_count": 29,
     "metadata": {},
     "output_type": "execute_result"
    }
   ],
   "source": [
    "# Techie Values\n",
    "churn.Techie.unique()"
   ]
  },
  {
   "cell_type": "code",
   "execution_count": 30,
   "id": "26200159-72c9-4f6b-a8fc-3f041d0c0eb5",
   "metadata": {},
   "outputs": [
    {
     "data": {
      "text/plain": [
       "array(['Yes', 'No'], dtype=object)"
      ]
     },
     "execution_count": 30,
     "metadata": {},
     "output_type": "execute_result"
    }
   ],
   "source": [
    "# Port_modem Values\n",
    "churn.Port_modem.unique()"
   ]
  },
  {
   "cell_type": "code",
   "execution_count": 31,
   "id": "1ad72b85-bc12-4c7e-8d86-9ffc4a2b4819",
   "metadata": {},
   "outputs": [
    {
     "data": {
      "text/plain": [
       "array(['Yes', 'No'], dtype=object)"
      ]
     },
     "execution_count": 31,
     "metadata": {},
     "output_type": "execute_result"
    }
   ],
   "source": [
    "# Tablet Values\n",
    "churn.Tablet.unique()"
   ]
  },
  {
   "cell_type": "code",
   "execution_count": 32,
   "id": "7527fa91-2ac4-46b3-a601-391a19473c93",
   "metadata": {},
   "outputs": [
    {
     "data": {
      "text/plain": [
       "array(['Yes', 'No', nan], dtype=object)"
      ]
     },
     "execution_count": 32,
     "metadata": {},
     "output_type": "execute_result"
    }
   ],
   "source": [
    "# Phone Values\n",
    "churn.Phone.unique()"
   ]
  },
  {
   "cell_type": "code",
   "execution_count": 33,
   "id": "dab2cb5f-16e2-45e8-b8e1-9c4ab92e9dcb",
   "metadata": {},
   "outputs": [
    {
     "data": {
      "text/plain": [
       "array(['No', 'Yes'], dtype=object)"
      ]
     },
     "execution_count": 33,
     "metadata": {},
     "output_type": "execute_result"
    }
   ],
   "source": [
    "# Multiple Values\n",
    "churn.Multiple.unique()"
   ]
  },
  {
   "cell_type": "code",
   "execution_count": 34,
   "id": "bd53eba6-19a7-4f45-8b29-7a5e635aee19",
   "metadata": {},
   "outputs": [
    {
     "data": {
      "text/plain": [
       "array(['Yes', 'No'], dtype=object)"
      ]
     },
     "execution_count": 34,
     "metadata": {},
     "output_type": "execute_result"
    }
   ],
   "source": [
    "# OnlineSecurity Values\n",
    "churn.OnlineSecurity.unique()"
   ]
  },
  {
   "cell_type": "code",
   "execution_count": 35,
   "id": "ab60df46-0558-41d3-88ea-0a0cba45356f",
   "metadata": {},
   "outputs": [
    {
     "data": {
      "text/plain": [
       "array(['Yes', 'No'], dtype=object)"
      ]
     },
     "execution_count": 35,
     "metadata": {},
     "output_type": "execute_result"
    }
   ],
   "source": [
    "# OnlineBackup Values\n",
    "churn.OnlineBackup.unique()"
   ]
  },
  {
   "cell_type": "code",
   "execution_count": 36,
   "id": "6e8af7e6-307b-4337-a487-beb70d347668",
   "metadata": {},
   "outputs": [
    {
     "data": {
      "text/plain": [
       "array(['No', 'Yes'], dtype=object)"
      ]
     },
     "execution_count": 36,
     "metadata": {},
     "output_type": "execute_result"
    }
   ],
   "source": [
    "# DeviceProtection Values\n",
    "churn.DeviceProtection.unique()"
   ]
  },
  {
   "cell_type": "code",
   "execution_count": 37,
   "id": "13eaa95a-5a0c-478c-8ffd-ede682e3fd3b",
   "metadata": {},
   "outputs": [
    {
     "data": {
      "text/plain": [
       "array(['No', 'Yes', nan], dtype=object)"
      ]
     },
     "execution_count": 37,
     "metadata": {},
     "output_type": "execute_result"
    }
   ],
   "source": [
    "# TechSupport Values\n",
    "churn.TechSupport.unique()"
   ]
  },
  {
   "cell_type": "code",
   "execution_count": 38,
   "id": "0be4ac3f-0fe6-439a-8ac6-1e5d30868af0",
   "metadata": {},
   "outputs": [
    {
     "data": {
      "text/plain": [
       "array(['No', 'Yes'], dtype=object)"
      ]
     },
     "execution_count": 38,
     "metadata": {},
     "output_type": "execute_result"
    }
   ],
   "source": [
    "# StreamingTV Values\n",
    "churn.StreamingTV.unique()"
   ]
  },
  {
   "cell_type": "code",
   "execution_count": 39,
   "id": "c2abea59-7ed0-497f-ac42-a4ce862347c9",
   "metadata": {},
   "outputs": [
    {
     "data": {
      "text/plain": [
       "array(['Yes', 'No'], dtype=object)"
      ]
     },
     "execution_count": 39,
     "metadata": {},
     "output_type": "execute_result"
    }
   ],
   "source": [
    "# StreamingMovies Values\n",
    "churn.StreamingMovies.unique()"
   ]
  },
  {
   "cell_type": "code",
   "execution_count": 40,
   "id": "d163fa9b-d23b-4066-bbb9-ff7aeb94147f",
   "metadata": {},
   "outputs": [
    {
     "data": {
      "text/plain": [
       "array(['Yes', 'No'], dtype=object)"
      ]
     },
     "execution_count": 40,
     "metadata": {},
     "output_type": "execute_result"
    }
   ],
   "source": [
    "#PaperlessBilling Values\n",
    "churn.PaperlessBilling.unique()"
   ]
  },
  {
   "cell_type": "markdown",
   "id": "c6cebe2b-0b64-4079-aa54-836bb1541e95",
   "metadata": {},
   "source": [
    "## Part III: Data Cleaning"
   ]
  },
  {
   "cell_type": "markdown",
   "id": "9b093f37-78d9-4cb0-8073-e8c6f7eb8f17",
   "metadata": {
    "jp-MarkdownHeadingCollapsed": true
   },
   "source": [
    "### D.  Findings, Cleaning Justification and Summary, Cleaning Code and Output, and Limitations of Cleaning"
   ]
  },
  {
   "cell_type": "markdown",
   "id": "1b5e0e98-fb89-4f52-9d25-56ec53e34248",
   "metadata": {
    "jp-MarkdownHeadingCollapsed": true
   },
   "source": [
    "#### 1.  Findings"
   ]
  },
  {
   "cell_type": "markdown",
   "id": "37042c42-56dd-4f16-9aa1-f1ed3d4a3341",
   "metadata": {},
   "source": [
    "&emsp;Implementing the plan introduced in C1, a few data quality issues were detected with the Churn data set. The first step in the project was to detect duplicates, of which there were none, so no treatment was needed. Next, the data was checked for missing values and their amounts. Missing values were found in the following variables: Children (24.95%), Age (24.75%), Income(24.9%), Techie (24.77%), Phone (10.26%), TechSupport (9.91%), Tenure (9.31%), Bandwidth_GB_Year (10.21%).\n",
    "    \n",
    "&emsp;In detecting outliers, the Income and Yearly_equip_failure variables were found to have unreasonable values in need of treatment, with Income having two and Yearly_equip_failure having 94. With Children, Age, Outage_sec_perweek, Email, Contacts, Tenure, MonthlyCharge, item1, item2, item3, item4, item5, item6, item7, and item8, all values fell within an expected range. It is worth noting that Outage_sec_perweek has a bimodal distribution, which may warrant further investigation as to why there is a specific grouping of higher values. The large amount of values in this particular grouping should not be considered outliers for additional cleaning treatment and should be left in the data set. No data quality issues were detected in the re-expression phase of the introduced plan."
   ]
  },
  {
   "cell_type": "markdown",
   "id": "5806aa92-e135-4683-a4e0-0d3ede09dfd7",
   "metadata": {
    "jp-MarkdownHeadingCollapsed": true
   },
   "source": [
    "#### 2.  Justification of Cleaning Methods"
   ]
  },
  {
   "cell_type": "markdown",
   "id": "b295e807-5c74-4d79-a2f1-1e28dca053d5",
   "metadata": {},
   "source": [
    "&emsp;As there weren't any duplicate rows detected, the first data quality issue that needs addressing is missing values in the Children, Age, Income, Techie, Phone, TechSupport, Tenure, and Bandwidth_GB_Year variables. None of the variables were found to have over 60% missing values in the detection phase, so removal is not considered for treatment (Western Governors University, Getting Started with D206 | Detecting and Treating Missing Values); instead, imputation is used. The `describe()` function outputs basic statistical information for each quantitative value. Most importantly, the mean and median values for the columns are used to compare after imputation. For Children, Age, Income, Tenure, and Bandwidth_GB_Year, the `hist()` function visualizes their distributions in a histogram to prescribe the appropriate imputation method. Children, Income, Tenure, and Bandwidth_GB_Year distributions have skewed or bimodal distributions, which warrants imputation by the median. The `fillna()` function will be used to find and fill in place all null values with the passed argument of the median column value via the `median()` function and `inplace=True`. The Age distribution is uniform, so the `mean() `function is used to impute the mean value into all fields containing nulls, again using `fillna()` and `inplace=True`. Both Children and Age are treated with the `round()` function to output the columns as whole numbers as is customary.\n",
    "\n",
    "&emsp;For the qualitative variables of Techie, Phone, and TechSupport, the column's mode is used in imputing null values. Here the result of the `fillna()` function is assigned back to the column, with the passed argument being column mode using `mode()[0]`.  After all of the imputing is complete, verification of success is needed. The `isna().sum()` functions chained together from the cleaning plan are used again on the set to verify that the null value counts are all zero. The `describe()` function is called on the dataset to compare the mean and median before imputation and a histogram output for each to verify that the distribution has stayed the same. \n",
    "\n",
    "&emsp;Income and Yearly_equip_failure are treated for outliers by pinpointing where on the boxplot output from the detection phase values begin to be unreasonably large. This found value is then used to query the data for all values above it using the `query()` function. For instance, the Income variable query becomes `churn.query('Income > 250000')`, with 250,000 being where the number starts to be unreasonable. The query result is put in a new variable and output using the `info()` function, which outputs a list of the columns, but more importantly, the number of values in the query variable. The number is then used to decide on outlier treatment, as Income has two and Yearly_equip_failure has 94; the amounts are small enough that imputation will be used without data quality loss. The outliers for both variables are first made null using the `where()` function, with the query, nan, and the column passed into it, assigning this to the column itself. These newly null values will then be filled with the median for each column, using the `fillna()` function with the given column, `median()`, and `inplace = True` as arguments. Yearly_equip_failure is recast as an integer using the `astype()` function. The boxplot is viewed for each variable to verify that outliers are now taken care of and that all are within a reasonable and expected range. \n",
    "\n",
    "&emsp;While there weren't any data quality issues detected in the re-expression process, ordinal categorical variables of Education, Churn, Techie, Port_modem, Tablet, Phone, Multiple, OnlineSecurty, OnlineBackup, DeviceProtection, TechSupport, StreamingTV, StreamingMovies, and Paperless are re-expressed through ordinal encoding. This will better prepare the data structurally for use further in the analysis process (Western Governors University, Getting Started with D206 | Re-expression of Categorical Variables). After each unique value is found during detection, the column is copied by assigning it to a new variable with the name varableName_numeric. This new column will have its values set to a number from a created dictionary. A variable to hold the dictionary is created, and starting at zero, each unique value is assigned a number in the dictionary. The syntax for the Techie column dictionary and replacement is as follows: `dict_techie = {\"Techie_numeric: {\"No\":0, \"Yes\": 1}}`. The values are then set to replace the categorical values using `replace()`, with the dictionary and setting `inplace = True` passed in. This is used for each variable and its unique values. Re-expression is checked using a data frame's loc[] property, which returns the named column and a sampling of it's values. The `info()` function then confirms their places in the dataframe. "
   ]
  },
  {
   "cell_type": "markdown",
   "id": "199d5a39-f508-444e-b846-9fdfe1518d07",
   "metadata": {
    "jp-MarkdownHeadingCollapsed": true
   },
   "source": [
    "#### 3.  Data Cleaning Outcome Summary"
   ]
  },
  {
   "cell_type": "markdown",
   "id": "80e3fb98-c496-4c5b-97cc-52e87adf51e7",
   "metadata": {},
   "source": [
    "&emsp;The data cleaning performed on the Churn data set entailed detecting and treating duplicate values, null or missing values, outliers, and the re-expression of categorical variables. As duplicate detection did not return anything, no treatment was needed. Missing and null values were imputed using mean, median, or mode depending on the distribution and type of data (qualitative or quantitative) contained within. Each column was checked to verify a relatively similar distribution, mean, and median to before imputation, and the data set is confirmed to no longer contain null values. \n",
    "\n",
    "&emsp;Any unreasonable outliers from qualitative variables were imputed using the median value, leaving only expected values to continue with the analysis. The re-expression of categorical variables allowed for verification of the type of unique values contained in the variable and prepared the data for further analysis. These steps have output a data set that is not only free of extraneous data, null values, and outliers but also structurally readied the data for further analysis. "
   ]
  },
  {
   "cell_type": "markdown",
   "id": "dd60fcdf-4bf1-43b0-8e44-3a5b1a1d237e",
   "metadata": {
    "jp-MarkdownHeadingCollapsed": true
   },
   "source": [
    "#### 4. Data Cleaning Code"
   ]
  },
  {
   "cell_type": "markdown",
   "id": "908b7b8c-4ee9-49ee-9088-e5963214a2cf",
   "metadata": {
    "jp-MarkdownHeadingCollapsed": true
   },
   "source": [
    "###### Treatment of Null Values"
   ]
  },
  {
   "cell_type": "code",
   "execution_count": 41,
   "id": "2200e1b7-5768-4fdb-9704-7f857863ae63",
   "metadata": {},
   "outputs": [
    {
     "data": {
      "text/html": [
       "<div>\n",
       "<style scoped>\n",
       "    .dataframe tbody tr th:only-of-type {\n",
       "        vertical-align: middle;\n",
       "    }\n",
       "\n",
       "    .dataframe tbody tr th {\n",
       "        vertical-align: top;\n",
       "    }\n",
       "\n",
       "    .dataframe thead th {\n",
       "        text-align: right;\n",
       "    }\n",
       "</style>\n",
       "<table border=\"1\" class=\"dataframe\">\n",
       "  <thead>\n",
       "    <tr style=\"text-align: right;\">\n",
       "      <th></th>\n",
       "      <th>CaseOrder</th>\n",
       "      <th>Zip</th>\n",
       "      <th>Lat</th>\n",
       "      <th>Lng</th>\n",
       "      <th>Population</th>\n",
       "      <th>Children</th>\n",
       "      <th>Age</th>\n",
       "      <th>Income</th>\n",
       "      <th>Outage_sec_perweek</th>\n",
       "      <th>Email</th>\n",
       "      <th>...</th>\n",
       "      <th>MonthlyCharge</th>\n",
       "      <th>Bandwidth_GB_Year</th>\n",
       "      <th>item1</th>\n",
       "      <th>item2</th>\n",
       "      <th>item3</th>\n",
       "      <th>item4</th>\n",
       "      <th>item5</th>\n",
       "      <th>item6</th>\n",
       "      <th>item7</th>\n",
       "      <th>item8</th>\n",
       "    </tr>\n",
       "  </thead>\n",
       "  <tbody>\n",
       "    <tr>\n",
       "      <th>count</th>\n",
       "      <td>10000.00000</td>\n",
       "      <td>10000.000000</td>\n",
       "      <td>10000.000000</td>\n",
       "      <td>10000.000000</td>\n",
       "      <td>10000.000000</td>\n",
       "      <td>7505.000000</td>\n",
       "      <td>7525.000000</td>\n",
       "      <td>7510.000000</td>\n",
       "      <td>10000.000000</td>\n",
       "      <td>10000.000000</td>\n",
       "      <td>...</td>\n",
       "      <td>10000.000000</td>\n",
       "      <td>8979.000000</td>\n",
       "      <td>10000.000000</td>\n",
       "      <td>10000.000000</td>\n",
       "      <td>10000.000000</td>\n",
       "      <td>10000.000000</td>\n",
       "      <td>10000.000000</td>\n",
       "      <td>10000.000000</td>\n",
       "      <td>10000.000000</td>\n",
       "      <td>10000.000000</td>\n",
       "    </tr>\n",
       "    <tr>\n",
       "      <th>mean</th>\n",
       "      <td>5000.50000</td>\n",
       "      <td>49153.319600</td>\n",
       "      <td>38.757567</td>\n",
       "      <td>-90.782536</td>\n",
       "      <td>9756.562400</td>\n",
       "      <td>2.095936</td>\n",
       "      <td>53.275748</td>\n",
       "      <td>39936.762226</td>\n",
       "      <td>11.452955</td>\n",
       "      <td>12.016000</td>\n",
       "      <td>...</td>\n",
       "      <td>174.076305</td>\n",
       "      <td>3398.842752</td>\n",
       "      <td>3.490800</td>\n",
       "      <td>3.505100</td>\n",
       "      <td>3.487000</td>\n",
       "      <td>3.497500</td>\n",
       "      <td>3.492900</td>\n",
       "      <td>3.497300</td>\n",
       "      <td>3.509500</td>\n",
       "      <td>3.495600</td>\n",
       "    </tr>\n",
       "    <tr>\n",
       "      <th>std</th>\n",
       "      <td>2886.89568</td>\n",
       "      <td>27532.196108</td>\n",
       "      <td>5.437389</td>\n",
       "      <td>15.156142</td>\n",
       "      <td>14432.698671</td>\n",
       "      <td>2.154758</td>\n",
       "      <td>20.753928</td>\n",
       "      <td>28358.469482</td>\n",
       "      <td>7.025921</td>\n",
       "      <td>3.025898</td>\n",
       "      <td>...</td>\n",
       "      <td>43.335473</td>\n",
       "      <td>2187.396807</td>\n",
       "      <td>1.037797</td>\n",
       "      <td>1.034641</td>\n",
       "      <td>1.027977</td>\n",
       "      <td>1.025816</td>\n",
       "      <td>1.024819</td>\n",
       "      <td>1.033586</td>\n",
       "      <td>1.028502</td>\n",
       "      <td>1.028633</td>\n",
       "    </tr>\n",
       "    <tr>\n",
       "      <th>min</th>\n",
       "      <td>1.00000</td>\n",
       "      <td>601.000000</td>\n",
       "      <td>17.966120</td>\n",
       "      <td>-171.688150</td>\n",
       "      <td>0.000000</td>\n",
       "      <td>0.000000</td>\n",
       "      <td>18.000000</td>\n",
       "      <td>740.660000</td>\n",
       "      <td>-1.348571</td>\n",
       "      <td>1.000000</td>\n",
       "      <td>...</td>\n",
       "      <td>77.505230</td>\n",
       "      <td>155.506715</td>\n",
       "      <td>1.000000</td>\n",
       "      <td>1.000000</td>\n",
       "      <td>1.000000</td>\n",
       "      <td>1.000000</td>\n",
       "      <td>1.000000</td>\n",
       "      <td>1.000000</td>\n",
       "      <td>1.000000</td>\n",
       "      <td>1.000000</td>\n",
       "    </tr>\n",
       "    <tr>\n",
       "      <th>25%</th>\n",
       "      <td>2500.75000</td>\n",
       "      <td>26292.500000</td>\n",
       "      <td>35.341828</td>\n",
       "      <td>-97.082812</td>\n",
       "      <td>738.000000</td>\n",
       "      <td>0.000000</td>\n",
       "      <td>35.000000</td>\n",
       "      <td>19285.522500</td>\n",
       "      <td>8.054362</td>\n",
       "      <td>10.000000</td>\n",
       "      <td>...</td>\n",
       "      <td>141.071078</td>\n",
       "      <td>1234.110529</td>\n",
       "      <td>3.000000</td>\n",
       "      <td>3.000000</td>\n",
       "      <td>3.000000</td>\n",
       "      <td>3.000000</td>\n",
       "      <td>3.000000</td>\n",
       "      <td>3.000000</td>\n",
       "      <td>3.000000</td>\n",
       "      <td>3.000000</td>\n",
       "    </tr>\n",
       "    <tr>\n",
       "      <th>50%</th>\n",
       "      <td>5000.50000</td>\n",
       "      <td>48869.500000</td>\n",
       "      <td>39.395800</td>\n",
       "      <td>-87.918800</td>\n",
       "      <td>2910.500000</td>\n",
       "      <td>1.000000</td>\n",
       "      <td>53.000000</td>\n",
       "      <td>33186.785000</td>\n",
       "      <td>10.202896</td>\n",
       "      <td>12.000000</td>\n",
       "      <td>...</td>\n",
       "      <td>169.915400</td>\n",
       "      <td>3382.424000</td>\n",
       "      <td>3.000000</td>\n",
       "      <td>4.000000</td>\n",
       "      <td>3.000000</td>\n",
       "      <td>3.000000</td>\n",
       "      <td>3.000000</td>\n",
       "      <td>3.000000</td>\n",
       "      <td>4.000000</td>\n",
       "      <td>3.000000</td>\n",
       "    </tr>\n",
       "    <tr>\n",
       "      <th>75%</th>\n",
       "      <td>7500.25000</td>\n",
       "      <td>71866.500000</td>\n",
       "      <td>42.106908</td>\n",
       "      <td>-80.088745</td>\n",
       "      <td>13168.000000</td>\n",
       "      <td>3.000000</td>\n",
       "      <td>71.000000</td>\n",
       "      <td>53472.395000</td>\n",
       "      <td>12.487644</td>\n",
       "      <td>14.000000</td>\n",
       "      <td>...</td>\n",
       "      <td>203.777441</td>\n",
       "      <td>5587.096500</td>\n",
       "      <td>4.000000</td>\n",
       "      <td>4.000000</td>\n",
       "      <td>4.000000</td>\n",
       "      <td>4.000000</td>\n",
       "      <td>4.000000</td>\n",
       "      <td>4.000000</td>\n",
       "      <td>4.000000</td>\n",
       "      <td>4.000000</td>\n",
       "    </tr>\n",
       "    <tr>\n",
       "      <th>max</th>\n",
       "      <td>10000.00000</td>\n",
       "      <td>99929.000000</td>\n",
       "      <td>70.640660</td>\n",
       "      <td>-65.667850</td>\n",
       "      <td>111850.000000</td>\n",
       "      <td>10.000000</td>\n",
       "      <td>89.000000</td>\n",
       "      <td>258900.700000</td>\n",
       "      <td>47.049280</td>\n",
       "      <td>23.000000</td>\n",
       "      <td>...</td>\n",
       "      <td>315.878600</td>\n",
       "      <td>7158.982000</td>\n",
       "      <td>7.000000</td>\n",
       "      <td>7.000000</td>\n",
       "      <td>8.000000</td>\n",
       "      <td>7.000000</td>\n",
       "      <td>7.000000</td>\n",
       "      <td>8.000000</td>\n",
       "      <td>7.000000</td>\n",
       "      <td>8.000000</td>\n",
       "    </tr>\n",
       "  </tbody>\n",
       "</table>\n",
       "<p>8 rows × 23 columns</p>\n",
       "</div>"
      ],
      "text/plain": [
       "         CaseOrder           Zip           Lat           Lng     Population  \\\n",
       "count  10000.00000  10000.000000  10000.000000  10000.000000   10000.000000   \n",
       "mean    5000.50000  49153.319600     38.757567    -90.782536    9756.562400   \n",
       "std     2886.89568  27532.196108      5.437389     15.156142   14432.698671   \n",
       "min        1.00000    601.000000     17.966120   -171.688150       0.000000   \n",
       "25%     2500.75000  26292.500000     35.341828    -97.082812     738.000000   \n",
       "50%     5000.50000  48869.500000     39.395800    -87.918800    2910.500000   \n",
       "75%     7500.25000  71866.500000     42.106908    -80.088745   13168.000000   \n",
       "max    10000.00000  99929.000000     70.640660    -65.667850  111850.000000   \n",
       "\n",
       "          Children          Age         Income  Outage_sec_perweek  \\\n",
       "count  7505.000000  7525.000000    7510.000000        10000.000000   \n",
       "mean      2.095936    53.275748   39936.762226           11.452955   \n",
       "std       2.154758    20.753928   28358.469482            7.025921   \n",
       "min       0.000000    18.000000     740.660000           -1.348571   \n",
       "25%       0.000000    35.000000   19285.522500            8.054362   \n",
       "50%       1.000000    53.000000   33186.785000           10.202896   \n",
       "75%       3.000000    71.000000   53472.395000           12.487644   \n",
       "max      10.000000    89.000000  258900.700000           47.049280   \n",
       "\n",
       "              Email  ...  MonthlyCharge  Bandwidth_GB_Year         item1  \\\n",
       "count  10000.000000  ...   10000.000000        8979.000000  10000.000000   \n",
       "mean      12.016000  ...     174.076305        3398.842752      3.490800   \n",
       "std        3.025898  ...      43.335473        2187.396807      1.037797   \n",
       "min        1.000000  ...      77.505230         155.506715      1.000000   \n",
       "25%       10.000000  ...     141.071078        1234.110529      3.000000   \n",
       "50%       12.000000  ...     169.915400        3382.424000      3.000000   \n",
       "75%       14.000000  ...     203.777441        5587.096500      4.000000   \n",
       "max       23.000000  ...     315.878600        7158.982000      7.000000   \n",
       "\n",
       "              item2         item3         item4         item5         item6  \\\n",
       "count  10000.000000  10000.000000  10000.000000  10000.000000  10000.000000   \n",
       "mean       3.505100      3.487000      3.497500      3.492900      3.497300   \n",
       "std        1.034641      1.027977      1.025816      1.024819      1.033586   \n",
       "min        1.000000      1.000000      1.000000      1.000000      1.000000   \n",
       "25%        3.000000      3.000000      3.000000      3.000000      3.000000   \n",
       "50%        4.000000      3.000000      3.000000      3.000000      3.000000   \n",
       "75%        4.000000      4.000000      4.000000      4.000000      4.000000   \n",
       "max        7.000000      8.000000      7.000000      7.000000      8.000000   \n",
       "\n",
       "              item7         item8  \n",
       "count  10000.000000  10000.000000  \n",
       "mean       3.509500      3.495600  \n",
       "std        1.028502      1.028633  \n",
       "min        1.000000      1.000000  \n",
       "25%        3.000000      3.000000  \n",
       "50%        4.000000      3.000000  \n",
       "75%        4.000000      4.000000  \n",
       "max        7.000000      8.000000  \n",
       "\n",
       "[8 rows x 23 columns]"
      ]
     },
     "execution_count": 41,
     "metadata": {},
     "output_type": "execute_result"
    }
   ],
   "source": [
    "# Examine the mean and median of quantitative variables\n",
    "# (Western Governors University, Getting Started with D206 | Detecting and Treating Missing Values)\n",
    "churn.describe()"
   ]
  },
  {
   "cell_type": "code",
   "execution_count": 42,
   "id": "50fcff8a-ccda-413e-a51e-bafcce067114",
   "metadata": {},
   "outputs": [
    {
     "data": {
      "image/png": "[encoded data removed]",
      "text/plain": [
       "<Figure size 640x480 with 1 Axes>"
      ]
     },
     "metadata": {},
     "output_type": "display_data"
    }
   ],
   "source": [
    "# Examine the distribution of quantitative values to determine the imputation method (either mean, median, or mode)\n",
    "# (Western Governors University, Getting Started with D206 | Detecting and Treating Missing Values)\n",
    "\n",
    "# Children Histogram\n",
    "plt.hist(churn['Children'])\n",
    "plt.show()"
   ]
  },
  {
   "cell_type": "code",
   "execution_count": 43,
   "id": "5803edaa-3739-40bc-82f7-2fbe1ff76633",
   "metadata": {},
   "outputs": [
    {
     "data": {
      "image/png": "[encoded data removed]",
      "text/plain": [
       "<Figure size 640x480 with 1 Axes>"
      ]
     },
     "metadata": {},
     "output_type": "display_data"
    }
   ],
   "source": [
    "# Age Histogram\n",
    "plt.hist(churn['Age'])\n",
    "plt.show()"
   ]
  },
  {
   "cell_type": "code",
   "execution_count": 44,
   "id": "601c3aae-4e19-4308-a9af-a4c8126e9e38",
   "metadata": {},
   "outputs": [
    {
     "data": {
      "image/png": "[encoded data removed]",
      "text/plain": [
       "<Figure size 640x480 with 1 Axes>"
      ]
     },
     "metadata": {},
     "output_type": "display_data"
    }
   ],
   "source": [
    "# Income Histogram\n",
    "plt.hist(churn['Income'])\n",
    "plt.show()"
   ]
  },
  {
   "cell_type": "code",
   "execution_count": 45,
   "id": "5081ff95-5b9a-448b-b7a3-0a2cf7d08fb1",
   "metadata": {},
   "outputs": [
    {
     "data": {
      "image/png": "[encoded data removed]",
      "text/plain": [
       "<Figure size 640x480 with 1 Axes>"
      ]
     },
     "metadata": {},
     "output_type": "display_data"
    }
   ],
   "source": [
    "# Tenure Histogram\n",
    "plt.hist(churn['Tenure'])\n",
    "plt.show()"
   ]
  },
  {
   "cell_type": "code",
   "execution_count": 46,
   "id": "1b527a6d-56e7-4c78-beb7-0e4235a9c6fa",
   "metadata": {},
   "outputs": [
    {
     "data": {
      "image/png": "[encoded data removed]",
      "text/plain": [
       "<Figure size 640x480 with 1 Axes>"
      ]
     },
     "metadata": {},
     "output_type": "display_data"
    }
   ],
   "source": [
    "# Bandwidth_GB_Year Histogram\n",
    "plt.hist(churn['Bandwidth_GB_Year'])\n",
    "plt.show()"
   ]
  },
  {
   "cell_type": "code",
   "execution_count": 47,
   "id": "c484554f-7891-41d2-aa5c-003b6a4cd477",
   "metadata": {},
   "outputs": [],
   "source": [
    "# Perform Ordinal Imputation on qualitative and quantitative variables\n",
    "# (Western Governors University, Getting Started with D206 | Detecting and Treating Missing Values)\n",
    "\n",
    "# Children - median()\n",
    "churn['Children'].fillna(churn['Children'].median(), inplace = True)\n",
    "churn['Children'] = churn['Children'].round(0) # Round() function: (How to round a single column in Pandas 2023)\n",
    "\n",
    "# Age - mean()\n",
    "churn['Age'].fillna(churn['Age'].mean(), inplace = True)\n",
    "churn['Age'] = churn['Age'].round(0) # Round() function: (How to round a single column in Pandas 2023)\n",
    "\n",
    "# Income - median() \n",
    "churn['Income'].fillna(churn['Income'].median(), inplace = True)\n",
    "\n",
    "# Techie - mode()\n",
    "churn['Techie'] = churn['Techie'].fillna(churn['Techie'].mode()[0])\n",
    "\n",
    "# Phone - mode()\n",
    "churn['Phone'] = churn['Phone'].fillna(churn['Phone'].mode()[0])\n",
    "\n",
    "# TechSupport - mode() \n",
    "churn['TechSupport'] = churn['TechSupport'].fillna(churn['TechSupport'].mode()[0])\n",
    "\n",
    "# Tenure - median()\n",
    "churn['Tenure'].fillna(churn['Tenure'].median(), inplace = True)\n",
    "\n",
    "# Bandwidth_GB_Year - median()\n",
    "churn['Bandwidth_GB_Year'].fillna(churn['Bandwidth_GB_Year'].median(), inplace = True)"
   ]
  },
  {
   "cell_type": "code",
   "execution_count": 48,
   "id": "c79c7951-dc43-4910-9fab-dea806d57e26",
   "metadata": {},
   "outputs": [
    {
     "data": {
      "text/plain": [
       "CaseOrder               0\n",
       "Customer_id             0\n",
       "Interaction             0\n",
       "City                    0\n",
       "State                   0\n",
       "County                  0\n",
       "Zip                     0\n",
       "Lat                     0\n",
       "Lng                     0\n",
       "Population              0\n",
       "Area                    0\n",
       "Timezone                0\n",
       "Job                     0\n",
       "Children                0\n",
       "Age                     0\n",
       "Education               0\n",
       "Employment              0\n",
       "Income                  0\n",
       "Marital                 0\n",
       "Gender                  0\n",
       "Churn                   0\n",
       "Outage_sec_perweek      0\n",
       "Email                   0\n",
       "Contacts                0\n",
       "Yearly_equip_failure    0\n",
       "Techie                  0\n",
       "Contract                0\n",
       "Port_modem              0\n",
       "Tablet                  0\n",
       "InternetService         0\n",
       "Phone                   0\n",
       "Multiple                0\n",
       "OnlineSecurity          0\n",
       "OnlineBackup            0\n",
       "DeviceProtection        0\n",
       "TechSupport             0\n",
       "StreamingTV             0\n",
       "StreamingMovies         0\n",
       "PaperlessBilling        0\n",
       "PaymentMethod           0\n",
       "Tenure                  0\n",
       "MonthlyCharge           0\n",
       "Bandwidth_GB_Year       0\n",
       "item1                   0\n",
       "item2                   0\n",
       "item3                   0\n",
       "item4                   0\n",
       "item5                   0\n",
       "item6                   0\n",
       "item7                   0\n",
       "item8                   0\n",
       "dtype: int64"
      ]
     },
     "execution_count": 48,
     "metadata": {},
     "output_type": "execute_result"
    }
   ],
   "source": [
    "# Verification - Check set for null values again\n",
    "# (Western Governors University, Getting Started with D206 | Detecting and Treating Missing Values)\n",
    "churn.isna().sum()"
   ]
  },
  {
   "cell_type": "code",
   "execution_count": 49,
   "id": "9a4189d4-1937-4f41-9b2d-01ad90451610",
   "metadata": {},
   "outputs": [
    {
     "data": {
      "text/html": [
       "<div>\n",
       "<style scoped>\n",
       "    .dataframe tbody tr th:only-of-type {\n",
       "        vertical-align: middle;\n",
       "    }\n",
       "\n",
       "    .dataframe tbody tr th {\n",
       "        vertical-align: top;\n",
       "    }\n",
       "\n",
       "    .dataframe thead th {\n",
       "        text-align: right;\n",
       "    }\n",
       "</style>\n",
       "<table border=\"1\" class=\"dataframe\">\n",
       "  <thead>\n",
       "    <tr style=\"text-align: right;\">\n",
       "      <th></th>\n",
       "      <th>CaseOrder</th>\n",
       "      <th>Zip</th>\n",
       "      <th>Lat</th>\n",
       "      <th>Lng</th>\n",
       "      <th>Population</th>\n",
       "      <th>Children</th>\n",
       "      <th>Age</th>\n",
       "      <th>Income</th>\n",
       "      <th>Outage_sec_perweek</th>\n",
       "      <th>Email</th>\n",
       "      <th>...</th>\n",
       "      <th>MonthlyCharge</th>\n",
       "      <th>Bandwidth_GB_Year</th>\n",
       "      <th>item1</th>\n",
       "      <th>item2</th>\n",
       "      <th>item3</th>\n",
       "      <th>item4</th>\n",
       "      <th>item5</th>\n",
       "      <th>item6</th>\n",
       "      <th>item7</th>\n",
       "      <th>item8</th>\n",
       "    </tr>\n",
       "  </thead>\n",
       "  <tbody>\n",
       "    <tr>\n",
       "      <th>count</th>\n",
       "      <td>10000.00000</td>\n",
       "      <td>10000.000000</td>\n",
       "      <td>10000.000000</td>\n",
       "      <td>10000.000000</td>\n",
       "      <td>10000.000000</td>\n",
       "      <td>10000.000000</td>\n",
       "      <td>10000.000000</td>\n",
       "      <td>10000.000000</td>\n",
       "      <td>10000.000000</td>\n",
       "      <td>10000.000000</td>\n",
       "      <td>...</td>\n",
       "      <td>10000.000000</td>\n",
       "      <td>10000.000000</td>\n",
       "      <td>10000.000000</td>\n",
       "      <td>10000.000000</td>\n",
       "      <td>10000.000000</td>\n",
       "      <td>10000.000000</td>\n",
       "      <td>10000.000000</td>\n",
       "      <td>10000.000000</td>\n",
       "      <td>10000.000000</td>\n",
       "      <td>10000.000000</td>\n",
       "    </tr>\n",
       "    <tr>\n",
       "      <th>mean</th>\n",
       "      <td>5000.50000</td>\n",
       "      <td>49153.319600</td>\n",
       "      <td>38.757567</td>\n",
       "      <td>-90.782536</td>\n",
       "      <td>9756.562400</td>\n",
       "      <td>1.822500</td>\n",
       "      <td>53.207500</td>\n",
       "      <td>38256.017897</td>\n",
       "      <td>11.452955</td>\n",
       "      <td>12.016000</td>\n",
       "      <td>...</td>\n",
       "      <td>174.076305</td>\n",
       "      <td>3397.166397</td>\n",
       "      <td>3.490800</td>\n",
       "      <td>3.505100</td>\n",
       "      <td>3.487000</td>\n",
       "      <td>3.497500</td>\n",
       "      <td>3.492900</td>\n",
       "      <td>3.497300</td>\n",
       "      <td>3.509500</td>\n",
       "      <td>3.495600</td>\n",
       "    </tr>\n",
       "    <tr>\n",
       "      <th>std</th>\n",
       "      <td>2886.89568</td>\n",
       "      <td>27532.196108</td>\n",
       "      <td>5.437389</td>\n",
       "      <td>15.156142</td>\n",
       "      <td>14432.698671</td>\n",
       "      <td>1.925971</td>\n",
       "      <td>18.003457</td>\n",
       "      <td>24747.872761</td>\n",
       "      <td>7.025921</td>\n",
       "      <td>3.025898</td>\n",
       "      <td>...</td>\n",
       "      <td>43.335473</td>\n",
       "      <td>2072.718575</td>\n",
       "      <td>1.037797</td>\n",
       "      <td>1.034641</td>\n",
       "      <td>1.027977</td>\n",
       "      <td>1.025816</td>\n",
       "      <td>1.024819</td>\n",
       "      <td>1.033586</td>\n",
       "      <td>1.028502</td>\n",
       "      <td>1.028633</td>\n",
       "    </tr>\n",
       "    <tr>\n",
       "      <th>min</th>\n",
       "      <td>1.00000</td>\n",
       "      <td>601.000000</td>\n",
       "      <td>17.966120</td>\n",
       "      <td>-171.688150</td>\n",
       "      <td>0.000000</td>\n",
       "      <td>0.000000</td>\n",
       "      <td>18.000000</td>\n",
       "      <td>740.660000</td>\n",
       "      <td>-1.348571</td>\n",
       "      <td>1.000000</td>\n",
       "      <td>...</td>\n",
       "      <td>77.505230</td>\n",
       "      <td>155.506715</td>\n",
       "      <td>1.000000</td>\n",
       "      <td>1.000000</td>\n",
       "      <td>1.000000</td>\n",
       "      <td>1.000000</td>\n",
       "      <td>1.000000</td>\n",
       "      <td>1.000000</td>\n",
       "      <td>1.000000</td>\n",
       "      <td>1.000000</td>\n",
       "    </tr>\n",
       "    <tr>\n",
       "      <th>25%</th>\n",
       "      <td>2500.75000</td>\n",
       "      <td>26292.500000</td>\n",
       "      <td>35.341828</td>\n",
       "      <td>-97.082812</td>\n",
       "      <td>738.000000</td>\n",
       "      <td>1.000000</td>\n",
       "      <td>41.000000</td>\n",
       "      <td>23660.790000</td>\n",
       "      <td>8.054362</td>\n",
       "      <td>10.000000</td>\n",
       "      <td>...</td>\n",
       "      <td>141.071078</td>\n",
       "      <td>1312.130487</td>\n",
       "      <td>3.000000</td>\n",
       "      <td>3.000000</td>\n",
       "      <td>3.000000</td>\n",
       "      <td>3.000000</td>\n",
       "      <td>3.000000</td>\n",
       "      <td>3.000000</td>\n",
       "      <td>3.000000</td>\n",
       "      <td>3.000000</td>\n",
       "    </tr>\n",
       "    <tr>\n",
       "      <th>50%</th>\n",
       "      <td>5000.50000</td>\n",
       "      <td>48869.500000</td>\n",
       "      <td>39.395800</td>\n",
       "      <td>-87.918800</td>\n",
       "      <td>2910.500000</td>\n",
       "      <td>1.000000</td>\n",
       "      <td>53.000000</td>\n",
       "      <td>33186.785000</td>\n",
       "      <td>10.202896</td>\n",
       "      <td>12.000000</td>\n",
       "      <td>...</td>\n",
       "      <td>169.915400</td>\n",
       "      <td>3382.424000</td>\n",
       "      <td>3.000000</td>\n",
       "      <td>4.000000</td>\n",
       "      <td>3.000000</td>\n",
       "      <td>3.000000</td>\n",
       "      <td>3.000000</td>\n",
       "      <td>3.000000</td>\n",
       "      <td>4.000000</td>\n",
       "      <td>3.000000</td>\n",
       "    </tr>\n",
       "    <tr>\n",
       "      <th>75%</th>\n",
       "      <td>7500.25000</td>\n",
       "      <td>71866.500000</td>\n",
       "      <td>42.106908</td>\n",
       "      <td>-80.088745</td>\n",
       "      <td>13168.000000</td>\n",
       "      <td>3.000000</td>\n",
       "      <td>65.000000</td>\n",
       "      <td>45504.192500</td>\n",
       "      <td>12.487644</td>\n",
       "      <td>14.000000</td>\n",
       "      <td>...</td>\n",
       "      <td>203.777441</td>\n",
       "      <td>5466.284500</td>\n",
       "      <td>4.000000</td>\n",
       "      <td>4.000000</td>\n",
       "      <td>4.000000</td>\n",
       "      <td>4.000000</td>\n",
       "      <td>4.000000</td>\n",
       "      <td>4.000000</td>\n",
       "      <td>4.000000</td>\n",
       "      <td>4.000000</td>\n",
       "    </tr>\n",
       "    <tr>\n",
       "      <th>max</th>\n",
       "      <td>10000.00000</td>\n",
       "      <td>99929.000000</td>\n",
       "      <td>70.640660</td>\n",
       "      <td>-65.667850</td>\n",
       "      <td>111850.000000</td>\n",
       "      <td>10.000000</td>\n",
       "      <td>89.000000</td>\n",
       "      <td>258900.700000</td>\n",
       "      <td>47.049280</td>\n",
       "      <td>23.000000</td>\n",
       "      <td>...</td>\n",
       "      <td>315.878600</td>\n",
       "      <td>7158.982000</td>\n",
       "      <td>7.000000</td>\n",
       "      <td>7.000000</td>\n",
       "      <td>8.000000</td>\n",
       "      <td>7.000000</td>\n",
       "      <td>7.000000</td>\n",
       "      <td>8.000000</td>\n",
       "      <td>7.000000</td>\n",
       "      <td>8.000000</td>\n",
       "    </tr>\n",
       "  </tbody>\n",
       "</table>\n",
       "<p>8 rows × 23 columns</p>\n",
       "</div>"
      ],
      "text/plain": [
       "         CaseOrder           Zip           Lat           Lng     Population  \\\n",
       "count  10000.00000  10000.000000  10000.000000  10000.000000   10000.000000   \n",
       "mean    5000.50000  49153.319600     38.757567    -90.782536    9756.562400   \n",
       "std     2886.89568  27532.196108      5.437389     15.156142   14432.698671   \n",
       "min        1.00000    601.000000     17.966120   -171.688150       0.000000   \n",
       "25%     2500.75000  26292.500000     35.341828    -97.082812     738.000000   \n",
       "50%     5000.50000  48869.500000     39.395800    -87.918800    2910.500000   \n",
       "75%     7500.25000  71866.500000     42.106908    -80.088745   13168.000000   \n",
       "max    10000.00000  99929.000000     70.640660    -65.667850  111850.000000   \n",
       "\n",
       "           Children           Age         Income  Outage_sec_perweek  \\\n",
       "count  10000.000000  10000.000000   10000.000000        10000.000000   \n",
       "mean       1.822500     53.207500   38256.017897           11.452955   \n",
       "std        1.925971     18.003457   24747.872761            7.025921   \n",
       "min        0.000000     18.000000     740.660000           -1.348571   \n",
       "25%        1.000000     41.000000   23660.790000            8.054362   \n",
       "50%        1.000000     53.000000   33186.785000           10.202896   \n",
       "75%        3.000000     65.000000   45504.192500           12.487644   \n",
       "max       10.000000     89.000000  258900.700000           47.049280   \n",
       "\n",
       "              Email  ...  MonthlyCharge  Bandwidth_GB_Year         item1  \\\n",
       "count  10000.000000  ...   10000.000000       10000.000000  10000.000000   \n",
       "mean      12.016000  ...     174.076305        3397.166397      3.490800   \n",
       "std        3.025898  ...      43.335473        2072.718575      1.037797   \n",
       "min        1.000000  ...      77.505230         155.506715      1.000000   \n",
       "25%       10.000000  ...     141.071078        1312.130487      3.000000   \n",
       "50%       12.000000  ...     169.915400        3382.424000      3.000000   \n",
       "75%       14.000000  ...     203.777441        5466.284500      4.000000   \n",
       "max       23.000000  ...     315.878600        7158.982000      7.000000   \n",
       "\n",
       "              item2         item3         item4         item5         item6  \\\n",
       "count  10000.000000  10000.000000  10000.000000  10000.000000  10000.000000   \n",
       "mean       3.505100      3.487000      3.497500      3.492900      3.497300   \n",
       "std        1.034641      1.027977      1.025816      1.024819      1.033586   \n",
       "min        1.000000      1.000000      1.000000      1.000000      1.000000   \n",
       "25%        3.000000      3.000000      3.000000      3.000000      3.000000   \n",
       "50%        4.000000      3.000000      3.000000      3.000000      3.000000   \n",
       "75%        4.000000      4.000000      4.000000      4.000000      4.000000   \n",
       "max        7.000000      8.000000      7.000000      7.000000      8.000000   \n",
       "\n",
       "              item7         item8  \n",
       "count  10000.000000  10000.000000  \n",
       "mean       3.509500      3.495600  \n",
       "std        1.028502      1.028633  \n",
       "min        1.000000      1.000000  \n",
       "25%        3.000000      3.000000  \n",
       "50%        4.000000      3.000000  \n",
       "75%        4.000000      4.000000  \n",
       "max        7.000000      8.000000  \n",
       "\n",
       "[8 rows x 23 columns]"
      ]
     },
     "execution_count": 49,
     "metadata": {},
     "output_type": "execute_result"
    }
   ],
   "source": [
    "# Output mean and median to check against prior mean and median values\n",
    "# (Western Governors University, Getting Started with D206 | Detecting and Treating Missing Values)\n",
    "churn.describe()"
   ]
  },
  {
   "cell_type": "code",
   "execution_count": 50,
   "id": "af92300b-246b-4865-8642-a173e1e72f53",
   "metadata": {},
   "outputs": [
    {
     "data": {
      "image/png": "[encoded data removed]",
      "text/plain": [
       "<Figure size 640x480 with 1 Axes>"
      ]
     },
     "metadata": {},
     "output_type": "display_data"
    }
   ],
   "source": [
    "# Check distributions to check against prior distributions\n",
    "# (Western Governors University, Getting Started with D206 | Detecting and Treating Missing Values)\n",
    "\n",
    "# Children\n",
    "plt.hist(churn['Children'])\n",
    "plt.show()"
   ]
  },
  {
   "cell_type": "code",
   "execution_count": 51,
   "id": "50b9ac0f-de89-49b2-bb6f-73f469c3e5d2",
   "metadata": {},
   "outputs": [
    {
     "data": {
      "image/png": "[encoded data removed]",
      "text/plain": [
       "<Figure size 640x480 with 1 Axes>"
      ]
     },
     "metadata": {},
     "output_type": "display_data"
    }
   ],
   "source": [
    "# Age\n",
    "plt.hist(churn['Age'])\n",
    "plt.show()"
   ]
  },
  {
   "cell_type": "code",
   "execution_count": 52,
   "id": "5e2ddfe2-1ee3-4f61-9aea-c395c3516411",
   "metadata": {},
   "outputs": [
    {
     "data": {
      "image/png": "[encoded data removed]",
      "text/plain": [
       "<Figure size 640x480 with 1 Axes>"
      ]
     },
     "metadata": {},
     "output_type": "display_data"
    }
   ],
   "source": [
    "# Income\n",
    "plt.hist(churn['Income'])\n",
    "plt.show()"
   ]
  },
  {
   "cell_type": "code",
   "execution_count": 53,
   "id": "8c280910-2f6f-4e4b-a11f-4036b6d271bc",
   "metadata": {},
   "outputs": [
    {
     "data": {
      "image/png": "[encoded data removed]",
      "text/plain": [
       "<Figure size 640x480 with 1 Axes>"
      ]
     },
     "metadata": {},
     "output_type": "display_data"
    }
   ],
   "source": [
    "# Tenure \n",
    "plt.hist(churn['Tenure'])\n",
    "plt.show()"
   ]
  },
  {
   "cell_type": "code",
   "execution_count": 54,
   "id": "ec09ad40-fa1a-4864-962a-ce7fe6816509",
   "metadata": {},
   "outputs": [
    {
     "data": {
      "image/png": "[encoded data removed]",
      "text/plain": [
       "<Figure size 640x480 with 1 Axes>"
      ]
     },
     "metadata": {},
     "output_type": "display_data"
    }
   ],
   "source": [
    "# Bandwidth_GB_Year\n",
    "plt.hist(churn['Bandwidth_GB_Year'])\n",
    "plt.show()"
   ]
  },
  {
   "cell_type": "markdown",
   "id": "b7f6b983-0b66-47bb-8943-7bff05051892",
   "metadata": {
    "jp-MarkdownHeadingCollapsed": true
   },
   "source": [
    "###### Treatment of Outliers"
   ]
  },
  {
   "cell_type": "code",
   "execution_count": 55,
   "id": "6e246e93-adcf-4941-8d6b-7f365a3f5f99",
   "metadata": {
    "scrolled": true
   },
   "outputs": [
    {
     "name": "stdout",
     "output_type": "stream",
     "text": [
      "<class 'pandas.core.frame.DataFrame'>\n",
      "Int64Index: 2 entries, 4250 to 9181\n",
      "Data columns (total 51 columns):\n",
      " #   Column                Non-Null Count  Dtype  \n",
      "---  ------                --------------  -----  \n",
      " 0   CaseOrder             2 non-null      int64  \n",
      " 1   Customer_id           2 non-null      object \n",
      " 2   Interaction           2 non-null      object \n",
      " 3   City                  2 non-null      object \n",
      " 4   State                 2 non-null      object \n",
      " 5   County                2 non-null      object \n",
      " 6   Zip                   2 non-null      int64  \n",
      " 7   Lat                   2 non-null      float64\n",
      " 8   Lng                   2 non-null      float64\n",
      " 9   Population            2 non-null      int64  \n",
      " 10  Area                  2 non-null      object \n",
      " 11  Timezone              2 non-null      object \n",
      " 12  Job                   2 non-null      object \n",
      " 13  Children              2 non-null      float64\n",
      " 14  Age                   2 non-null      float64\n",
      " 15  Education             2 non-null      object \n",
      " 16  Employment            2 non-null      object \n",
      " 17  Income                2 non-null      float64\n",
      " 18  Marital               2 non-null      object \n",
      " 19  Gender                2 non-null      object \n",
      " 20  Churn                 2 non-null      object \n",
      " 21  Outage_sec_perweek    2 non-null      float64\n",
      " 22  Email                 2 non-null      int64  \n",
      " 23  Contacts              2 non-null      int64  \n",
      " 24  Yearly_equip_failure  2 non-null      int64  \n",
      " 25  Techie                2 non-null      object \n",
      " 26  Contract              2 non-null      object \n",
      " 27  Port_modem            2 non-null      object \n",
      " 28  Tablet                2 non-null      object \n",
      " 29  InternetService       2 non-null      object \n",
      " 30  Phone                 2 non-null      object \n",
      " 31  Multiple              2 non-null      object \n",
      " 32  OnlineSecurity        2 non-null      object \n",
      " 33  OnlineBackup          2 non-null      object \n",
      " 34  DeviceProtection      2 non-null      object \n",
      " 35  TechSupport           2 non-null      object \n",
      " 36  StreamingTV           2 non-null      object \n",
      " 37  StreamingMovies       2 non-null      object \n",
      " 38  PaperlessBilling      2 non-null      object \n",
      " 39  PaymentMethod         2 non-null      object \n",
      " 40  Tenure                2 non-null      float64\n",
      " 41  MonthlyCharge         2 non-null      float64\n",
      " 42  Bandwidth_GB_Year     2 non-null      float64\n",
      " 43  item1                 2 non-null      int64  \n",
      " 44  item2                 2 non-null      int64  \n",
      " 45  item3                 2 non-null      int64  \n",
      " 46  item4                 2 non-null      int64  \n",
      " 47  item5                 2 non-null      int64  \n",
      " 48  item6                 2 non-null      int64  \n",
      " 49  item7                 2 non-null      int64  \n",
      " 50  item8                 2 non-null      int64  \n",
      "dtypes: float64(9), int64(14), object(28)\n",
      "memory usage: 832.0+ bytes\n"
     ]
    }
   ],
   "source": [
    "# Get a count of outliers for each of the variables that need treatment\n",
    "# (Western Governors University, Getting Started with D206 | Detecting and Treating Outliers) \n",
    "\n",
    "# Income\n",
    "Income_query = churn.query('Income > 250000')\n",
    "Income_query.info()"
   ]
  },
  {
   "cell_type": "code",
   "execution_count": 56,
   "id": "16907afd-ea9f-4a77-8142-419866df33cd",
   "metadata": {
    "scrolled": true
   },
   "outputs": [
    {
     "name": "stdout",
     "output_type": "stream",
     "text": [
      "<class 'pandas.core.frame.DataFrame'>\n",
      "Int64Index: 94 entries, 9 to 9968\n",
      "Data columns (total 51 columns):\n",
      " #   Column                Non-Null Count  Dtype  \n",
      "---  ------                --------------  -----  \n",
      " 0   CaseOrder             94 non-null     int64  \n",
      " 1   Customer_id           94 non-null     object \n",
      " 2   Interaction           94 non-null     object \n",
      " 3   City                  94 non-null     object \n",
      " 4   State                 94 non-null     object \n",
      " 5   County                94 non-null     object \n",
      " 6   Zip                   94 non-null     int64  \n",
      " 7   Lat                   94 non-null     float64\n",
      " 8   Lng                   94 non-null     float64\n",
      " 9   Population            94 non-null     int64  \n",
      " 10  Area                  94 non-null     object \n",
      " 11  Timezone              94 non-null     object \n",
      " 12  Job                   94 non-null     object \n",
      " 13  Children              94 non-null     float64\n",
      " 14  Age                   94 non-null     float64\n",
      " 15  Education             94 non-null     object \n",
      " 16  Employment            94 non-null     object \n",
      " 17  Income                94 non-null     float64\n",
      " 18  Marital               94 non-null     object \n",
      " 19  Gender                94 non-null     object \n",
      " 20  Churn                 94 non-null     object \n",
      " 21  Outage_sec_perweek    94 non-null     float64\n",
      " 22  Email                 94 non-null     int64  \n",
      " 23  Contacts              94 non-null     int64  \n",
      " 24  Yearly_equip_failure  94 non-null     int64  \n",
      " 25  Techie                94 non-null     object \n",
      " 26  Contract              94 non-null     object \n",
      " 27  Port_modem            94 non-null     object \n",
      " 28  Tablet                94 non-null     object \n",
      " 29  InternetService       94 non-null     object \n",
      " 30  Phone                 94 non-null     object \n",
      " 31  Multiple              94 non-null     object \n",
      " 32  OnlineSecurity        94 non-null     object \n",
      " 33  OnlineBackup          94 non-null     object \n",
      " 34  DeviceProtection      94 non-null     object \n",
      " 35  TechSupport           94 non-null     object \n",
      " 36  StreamingTV           94 non-null     object \n",
      " 37  StreamingMovies       94 non-null     object \n",
      " 38  PaperlessBilling      94 non-null     object \n",
      " 39  PaymentMethod         94 non-null     object \n",
      " 40  Tenure                94 non-null     float64\n",
      " 41  MonthlyCharge         94 non-null     float64\n",
      " 42  Bandwidth_GB_Year     94 non-null     float64\n",
      " 43  item1                 94 non-null     int64  \n",
      " 44  item2                 94 non-null     int64  \n",
      " 45  item3                 94 non-null     int64  \n",
      " 46  item4                 94 non-null     int64  \n",
      " 47  item5                 94 non-null     int64  \n",
      " 48  item6                 94 non-null     int64  \n",
      " 49  item7                 94 non-null     int64  \n",
      " 50  item8                 94 non-null     int64  \n",
      "dtypes: float64(9), int64(14), object(28)\n",
      "memory usage: 38.2+ KB\n"
     ]
    }
   ],
   "source": [
    "# Yearly_equip_failure\n",
    "Yearly_equip_failure_query = churn.query('Yearly_equip_failure > 2')\n",
    "\n",
    "Yearly_equip_failure_query.info()"
   ]
  },
  {
   "cell_type": "code",
   "execution_count": 57,
   "id": "427ef3d6-dae4-42dd-9e75-051afe7fbdec",
   "metadata": {},
   "outputs": [],
   "source": [
    "# Replace outliers with null values\n",
    "# (Western Governors University, Getting Started with D206 | Detecting and Treating Outliers)\n",
    "\n",
    "# Income\n",
    "churn['Income'] = np.where(churn['Income'] > 250000, np.nan, churn['Income'])\n",
    "\n",
    "# Yearly_equip_failure\n",
    "churn['Yearly_equip_failure'] = np.where(churn['Yearly_equip_failure'] > 2, np.nan, churn['Yearly_equip_failure'])"
   ]
  },
  {
   "cell_type": "code",
   "execution_count": 58,
   "id": "3c82282b-3e93-400d-97bf-50493e563cdf",
   "metadata": {},
   "outputs": [],
   "source": [
    "# Fill null values with median values\n",
    "# (Western Governors University, Getting Started with D206 | Detecting and Treating Outliers) \n",
    "\n",
    "# Income\n",
    "churn['Income'].fillna(churn['Income'].median(), inplace = True)\n",
    "\n",
    "# Yearly_equip_failure\n",
    "churn['Yearly_equip_failure'].fillna(churn['Yearly_equip_failure'].median(), inplace = True)\n",
    "churn['Yearly_equip_failure'] = churn['Yearly_equip_failure'].astype('int64') # astype() function: (Pandas.DataFrame.astype)"
   ]
  },
  {
   "cell_type": "code",
   "execution_count": 59,
   "id": "adf3df5b-f32f-4c41-833a-30ffc4973a07",
   "metadata": {},
   "outputs": [
    {
     "data": {
      "image/png": "[encoded data removed]",
      "text/plain": [
       "<Figure size 640x480 with 1 Axes>"
      ]
     },
     "metadata": {},
     "output_type": "display_data"
    }
   ],
   "source": [
    "# Verify the values fall within the expected range\n",
    "# (Western Governors University, Getting Started with D206 | Detecting and Treating Outliers) \n",
    "\n",
    "# Income\n",
    "boxplot = seaborn.boxplot(x = 'Income', data = churn)"
   ]
  },
  {
   "cell_type": "code",
   "execution_count": 60,
   "id": "d97ad9cf-5af8-4aff-a21e-b2d71929d998",
   "metadata": {},
   "outputs": [
    {
     "data": {
      "image/png": "[encoded data removed]",
      "text/plain": [
       "<Figure size 640x480 with 1 Axes>"
      ]
     },
     "metadata": {},
     "output_type": "display_data"
    }
   ],
   "source": [
    "# Yearly_equip_failure\n",
    "boxplot = seaborn.boxplot(x = 'Yearly_equip_failure', data = churn)"
   ]
  },
  {
   "cell_type": "markdown",
   "id": "ee259835-99dc-475e-ad47-03c94ff10dc8",
   "metadata": {
    "jp-MarkdownHeadingCollapsed": true
   },
   "source": [
    "###### Re-expression of Categorical Variables"
   ]
  },
  {
   "cell_type": "code",
   "execution_count": 61,
   "id": "a5bc0142-ee90-4350-a999-06870443db37",
   "metadata": {},
   "outputs": [],
   "source": [
    "# Copy column\n",
    "# (Western Governors University, Getting Started with D206 | Re-expression of Categorical Variables)\n",
    "\n",
    "# Education \n",
    "churn['Education_numeric'] = churn['Education']\n",
    "\n",
    "#Churn\n",
    "churn['Churn_numeric'] = churn['Churn']\n",
    "\n",
    "# Techie \n",
    "churn['Techie_numeric'] = churn['Techie']\n",
    "\n",
    "# Port_modem\n",
    "churn['Port_modem_numeric'] = churn['Port_modem']\n",
    "\n",
    "# Tablet\n",
    "churn['Tablet_numeric'] = churn['Tablet']\n",
    "\n",
    "# Phone\n",
    "churn['Phone_numeric'] = churn['Phone']\n",
    "\n",
    "# Multiple\n",
    "churn['Multiple_numeric'] = churn['Multiple']\n",
    "\n",
    "# OnlineSecurity\n",
    "churn['OnlineSecurity_numeric'] = churn['OnlineSecurity']\n",
    "\n",
    "# OnlineBackup\n",
    "churn['OnlineBackup_numeric'] = churn['OnlineBackup']\n",
    "\n",
    "# Device Protection\n",
    "churn['DeviceProtection_numeric'] = churn['DeviceProtection']\n",
    "\n",
    "# TechSupport\n",
    "churn['TechSupport_numeric'] = churn['TechSupport']\n",
    "\n",
    "# StreamingTV\n",
    "churn['StreamingTV_numeric'] = churn['StreamingTV']\n",
    "\n",
    "# StreamingMovies\n",
    "churn['StreamingMovies_numeric'] = churn['StreamingMovies']\n",
    "\n",
    "# PaperlessBilling\n",
    "churn['PaperlessBilling_numeric'] = churn['PaperlessBilling']"
   ]
  },
  {
   "cell_type": "code",
   "execution_count": 62,
   "id": "1090183a-49ac-4e9e-84af-e4ba9d48490a",
   "metadata": {},
   "outputs": [],
   "source": [
    "# Create dictionaries with all of their unique values mapped to a number\n",
    "# (Western Governors University, Getting Started with D206 | Re-expression of Categorical Variables)\n",
    "\n",
    "# Education \n",
    "dict_Education = {\"Education_numeric\": {'No Schooling Completed': 0, 'Nursery School to 8th Grade': 1, '9th Grade to 12th Grade, No Diploma': 2,\n",
    "        'GED or Alternative Credential': 3, 'Regular High School Diploma': 4, 'Professional School Degree': 5, \n",
    "        'Some College, Less than 1 Year': 6, 'Some College, 1 or More Years, No Degree': 7, \"Associate's Degree\": 8, \n",
    "        \"Bachelor's Degree\": 9, \"Master's Degree\": 10, 'Doctorate Degree': 11}}\n",
    "\n",
    "#Churn\n",
    "dict_churn = {\"Churn_numeric\": {\"No\": 0, \"Yes\": 1}}\n",
    "\n",
    "# Techie\n",
    "dict_Techie = {\"Techie_numeric\": {\"No\": 0, \"Yes\": 1}}\n",
    "\n",
    "# Port_modem\n",
    "dict_Port_modem = {\"Port_modem_numeric\": {\"No\": 0, \"Yes\": 1}}\n",
    "\n",
    "# Tablet\n",
    "dict_Tablet = {\"Tablet_numeric\": {\"No\": 0, \"Yes\": 1}}\n",
    "\n",
    "# Phone\n",
    "dict_Phone = {\"Phone_numeric\": {\"No\": 0, \"Yes\": 1}}\n",
    "\n",
    "# Multiple\n",
    "dict_Multiple = {\"Multiple_numeric\": {\"No\": 0, \"Yes\": 1}}\n",
    "\n",
    "# OnlineSecurity\n",
    "dict_OnlineSecurity = {\"OnlineSecurity_numeric\": {\"No\": 0, \"Yes\": 1}}\n",
    "\n",
    "# OnlineBackup \n",
    "dict_OnlineBackup = {\"OnlineBackup_numeric\": {\"No\": 0, \"Yes\": 1}}\n",
    "\n",
    "#  Device Protection\n",
    "dict_DeviceProtection = {\"DeviceProtection_numeric\": {\"No\": 0, \"Yes\": 1}}\n",
    "\n",
    "# TechSupport\n",
    "dict_TechSupport = {\"TechSupport_numeric\": {\"No\": 0, \"Yes\": 1}}\n",
    "\n",
    "\n",
    "# StreamingTV\n",
    "dict_StreamingTV = {\"StreamingTV_numeric\": {\"No\": 0, \"Yes\": 1}}\\\n",
    "\n",
    "# StreamingMovies\n",
    "dict_StreamingMovies = {\"StreamingMovies_numeric\": {\"No\": 0, \"Yes\": 1}}\n",
    "\n",
    "# PaperlessBilling\n",
    "dict_PaperlessBilling = {\"PaperlessBilling_numeric\": {\"No\": 0, \"Yes\": 1}}"
   ]
  },
  {
   "cell_type": "code",
   "execution_count": 63,
   "id": "a91b76e2-1a5b-4c16-a514-6362355a1caf",
   "metadata": {},
   "outputs": [],
   "source": [
    "# Replace categorical values in the copied column using created dictionaries \n",
    "# (Western Governors University, Getting Started with D206 | Re-expression of Categorical Variables)\n",
    "\n",
    "# Education \n",
    "churn.replace(dict_Education, inplace = True)\n",
    "\n",
    "# Churn\n",
    "churn.replace(dict_churn, inplace = True)\n",
    "\n",
    "# Techie\n",
    "churn.replace(dict_Techie, inplace=True)\n",
    "\n",
    "# Port_modem\n",
    "churn.replace(dict_Port_modem, inplace=True)\n",
    "\n",
    "# Tablet\n",
    "churn.replace(dict_Tablet, inplace=True)\n",
    "\n",
    "# Phone\n",
    "churn.replace(dict_Phone, inplace=True)\n",
    "\n",
    "# Multiple\n",
    "churn.replace(dict_Multiple, inplace=True)\n",
    "\n",
    "# OnlineSecurity\n",
    "churn.replace(dict_OnlineSecurity, inplace=True)\n",
    "\n",
    "# OnlineBackup\n",
    "churn.replace(dict_OnlineBackup, inplace=True)\n",
    "\n",
    "#  Device Protection\n",
    "churn.replace(dict_DeviceProtection, inplace=True)\n",
    "\n",
    "# TechSupport\n",
    "churn.replace(dict_TechSupport, inplace=True)\n",
    "\n",
    "# StreamingTV\n",
    "churn.replace(dict_StreamingTV, inplace=True)\n",
    "\n",
    "# Streaming Movies\n",
    "churn.replace(dict_StreamingMovies, inplace=True)\n",
    "\n",
    "# PaperlessBilling\n",
    "churn.replace(dict_PaperlessBilling, inplace=True)"
   ]
  },
  {
   "cell_type": "code",
   "execution_count": 64,
   "id": "fdcaaab1-e618-453b-bc9d-bcbf5a953d03",
   "metadata": {},
   "outputs": [
    {
     "data": {
      "text/plain": [
       "1        10\n",
       "2         4\n",
       "3         4\n",
       "4        11\n",
       "5        10\n",
       "         ..\n",
       "9996      6\n",
       "9997      4\n",
       "9998      1\n",
       "9999      9\n",
       "10000     3\n",
       "Name: Education_numeric, Length: 10000, dtype: int64"
      ]
     },
     "execution_count": 64,
     "metadata": {},
     "output_type": "execute_result"
    }
   ],
   "source": [
    "# Verify re-expression\n",
    "# (Pandas.DataFrame.loc)\n",
    "\n",
    "# Education\n",
    "churn.loc[:, 'Education_numeric']"
   ]
  },
  {
   "cell_type": "code",
   "execution_count": 65,
   "id": "1fed7fd6-6a5b-4493-a588-2fe74ad36674",
   "metadata": {},
   "outputs": [
    {
     "data": {
      "text/plain": [
       "1        0\n",
       "2        1\n",
       "3        0\n",
       "4        0\n",
       "5        1\n",
       "        ..\n",
       "9996     0\n",
       "9997     0\n",
       "9998     0\n",
       "9999     0\n",
       "10000    0\n",
       "Name: Churn_numeric, Length: 10000, dtype: int64"
      ]
     },
     "execution_count": 65,
     "metadata": {},
     "output_type": "execute_result"
    }
   ],
   "source": [
    "# Churn\n",
    "churn.loc[:,'Churn_numeric']"
   ]
  },
  {
   "cell_type": "code",
   "execution_count": 66,
   "id": "3ca3d1b9-6933-48d1-be25-0c412b077055",
   "metadata": {},
   "outputs": [
    {
     "data": {
      "text/plain": [
       "1        0\n",
       "2        1\n",
       "3        1\n",
       "4        1\n",
       "5        0\n",
       "        ..\n",
       "9996     0\n",
       "9997     0\n",
       "9998     0\n",
       "9999     0\n",
       "10000    0\n",
       "Name: Techie_numeric, Length: 10000, dtype: int64"
      ]
     },
     "execution_count": 66,
     "metadata": {},
     "output_type": "execute_result"
    }
   ],
   "source": [
    "# Techie\n",
    "churn.loc[:,'Techie_numeric']"
   ]
  },
  {
   "cell_type": "code",
   "execution_count": 67,
   "id": "d535db1a-7b60-402a-9e95-fb6c69af55a6",
   "metadata": {},
   "outputs": [
    {
     "data": {
      "text/plain": [
       "1        1\n",
       "2        0\n",
       "3        1\n",
       "4        0\n",
       "5        1\n",
       "        ..\n",
       "9996     1\n",
       "9997     0\n",
       "9998     0\n",
       "9999     0\n",
       "10000    1\n",
       "Name: Port_modem_numeric, Length: 10000, dtype: int64"
      ]
     },
     "execution_count": 67,
     "metadata": {},
     "output_type": "execute_result"
    }
   ],
   "source": [
    "# Port_modem\n",
    "churn.loc[:,'Port_modem_numeric']"
   ]
  },
  {
   "cell_type": "code",
   "execution_count": 68,
   "id": "9034d4a2-775d-45a1-a32f-fa1a6c2abfa6",
   "metadata": {},
   "outputs": [
    {
     "data": {
      "text/plain": [
       "1        1\n",
       "2        1\n",
       "3        0\n",
       "4        0\n",
       "5        0\n",
       "        ..\n",
       "9996     1\n",
       "9997     0\n",
       "9998     0\n",
       "9999     1\n",
       "10000    0\n",
       "Name: Tablet_numeric, Length: 10000, dtype: int64"
      ]
     },
     "execution_count": 68,
     "metadata": {},
     "output_type": "execute_result"
    }
   ],
   "source": [
    "# Tablet\n",
    "churn.loc[:,'Tablet_numeric']"
   ]
  },
  {
   "cell_type": "code",
   "execution_count": 69,
   "id": "04c66bd4-2dbb-4abd-a742-2eae8410c3a9",
   "metadata": {},
   "outputs": [
    {
     "data": {
      "text/plain": [
       "1        1\n",
       "2        1\n",
       "3        1\n",
       "4        1\n",
       "5        0\n",
       "        ..\n",
       "9996     1\n",
       "9997     1\n",
       "9998     1\n",
       "9999     0\n",
       "10000    1\n",
       "Name: Phone_numeric, Length: 10000, dtype: int64"
      ]
     },
     "execution_count": 69,
     "metadata": {},
     "output_type": "execute_result"
    }
   ],
   "source": [
    "# Phone\n",
    "churn.loc[:,'Phone_numeric']"
   ]
  },
  {
   "cell_type": "code",
   "execution_count": 70,
   "id": "414fe5c8-5b1b-48ed-b656-79b1758d004e",
   "metadata": {},
   "outputs": [
    {
     "data": {
      "text/plain": [
       "1        0\n",
       "2        1\n",
       "3        1\n",
       "4        0\n",
       "5        0\n",
       "        ..\n",
       "9996     1\n",
       "9997     1\n",
       "9998     1\n",
       "9999     1\n",
       "10000    1\n",
       "Name: Multiple_numeric, Length: 10000, dtype: int64"
      ]
     },
     "execution_count": 70,
     "metadata": {},
     "output_type": "execute_result"
    }
   ],
   "source": [
    "# Multiple \n",
    "churn.loc[:,'Multiple_numeric']"
   ]
  },
  {
   "cell_type": "code",
   "execution_count": 71,
   "id": "dacc2574-dbc0-4aba-86ad-bb6622f025ed",
   "metadata": {},
   "outputs": [
    {
     "data": {
      "text/plain": [
       "1        1\n",
       "2        1\n",
       "3        0\n",
       "4        1\n",
       "5        0\n",
       "        ..\n",
       "9996     0\n",
       "9997     1\n",
       "9998     1\n",
       "9999     0\n",
       "10000    1\n",
       "Name: OnlineSecurity_numeric, Length: 10000, dtype: int64"
      ]
     },
     "execution_count": 71,
     "metadata": {},
     "output_type": "execute_result"
    }
   ],
   "source": [
    "# OnlineSecurity\n",
    "churn.loc[:,'OnlineSecurity_numeric']"
   ]
  },
  {
   "cell_type": "code",
   "execution_count": 72,
   "id": "e476b738-7afe-41ea-b35e-4662f00800cb",
   "metadata": {},
   "outputs": [
    {
     "data": {
      "text/plain": [
       "1        1\n",
       "2        0\n",
       "3        0\n",
       "4        0\n",
       "5        0\n",
       "        ..\n",
       "9996     1\n",
       "9997     1\n",
       "9998     1\n",
       "9999     0\n",
       "10000    1\n",
       "Name: OnlineBackup_numeric, Length: 10000, dtype: int64"
      ]
     },
     "execution_count": 72,
     "metadata": {},
     "output_type": "execute_result"
    }
   ],
   "source": [
    "# OnlineBackup\n",
    "churn.loc[:,'OnlineBackup_numeric']"
   ]
  },
  {
   "cell_type": "code",
   "execution_count": 73,
   "id": "db6db023-382c-4cd9-a14a-4321dc6c27a9",
   "metadata": {},
   "outputs": [
    {
     "data": {
      "text/plain": [
       "1        0\n",
       "2        0\n",
       "3        0\n",
       "4        0\n",
       "5        0\n",
       "        ..\n",
       "9996     1\n",
       "9997     1\n",
       "9998     0\n",
       "9999     0\n",
       "10000    1\n",
       "Name: DeviceProtection_numeric, Length: 10000, dtype: int64"
      ]
     },
     "execution_count": 73,
     "metadata": {},
     "output_type": "execute_result"
    }
   ],
   "source": [
    "# DeviceProtection\n",
    "churn.loc[:,'DeviceProtection_numeric']"
   ]
  },
  {
   "cell_type": "code",
   "execution_count": 74,
   "id": "f133d75a-fc60-41ee-8018-26779f05c143",
   "metadata": {},
   "outputs": [
    {
     "data": {
      "text/plain": [
       "1        0\n",
       "2        0\n",
       "3        0\n",
       "4        0\n",
       "5        1\n",
       "        ..\n",
       "9996     0\n",
       "9997     0\n",
       "9998     0\n",
       "9999     1\n",
       "10000    0\n",
       "Name: TechSupport_numeric, Length: 10000, dtype: int64"
      ]
     },
     "execution_count": 74,
     "metadata": {},
     "output_type": "execute_result"
    }
   ],
   "source": [
    "# TechSupport\n",
    "churn.loc[:,'TechSupport_numeric']"
   ]
  },
  {
   "cell_type": "code",
   "execution_count": 75,
   "id": "17342ed9-cdc0-463d-87f6-bbe78d13af8f",
   "metadata": {},
   "outputs": [
    {
     "data": {
      "text/plain": [
       "1        0\n",
       "2        1\n",
       "3        0\n",
       "4        1\n",
       "5        1\n",
       "        ..\n",
       "9996     0\n",
       "9997     1\n",
       "9998     0\n",
       "9999     1\n",
       "10000    0\n",
       "Name: StreamingTV_numeric, Length: 10000, dtype: int64"
      ]
     },
     "execution_count": 75,
     "metadata": {},
     "output_type": "execute_result"
    }
   ],
   "source": [
    "# StreamingTV\n",
    "churn.loc[:,'StreamingTV_numeric']"
   ]
  },
  {
   "cell_type": "code",
   "execution_count": 76,
   "id": "5be44623-9421-41b5-8286-28f28da14732",
   "metadata": {},
   "outputs": [
    {
     "data": {
      "text/plain": [
       "1        1\n",
       "2        1\n",
       "3        1\n",
       "4        0\n",
       "5        0\n",
       "        ..\n",
       "9996     0\n",
       "9997     0\n",
       "9998     0\n",
       "9999     1\n",
       "10000    1\n",
       "Name: StreamingMovies_numeric, Length: 10000, dtype: int64"
      ]
     },
     "execution_count": 76,
     "metadata": {},
     "output_type": "execute_result"
    }
   ],
   "source": [
    "# StreamingMovies\n",
    "churn.loc[:,'StreamingMovies_numeric']"
   ]
  },
  {
   "cell_type": "code",
   "execution_count": 77,
   "id": "305ccd3f-c002-4891-b569-dd396dc3b011",
   "metadata": {},
   "outputs": [
    {
     "data": {
      "text/plain": [
       "1        1\n",
       "2        1\n",
       "3        1\n",
       "4        1\n",
       "5        0\n",
       "        ..\n",
       "9996     0\n",
       "9997     0\n",
       "9998     1\n",
       "9999     1\n",
       "10000    1\n",
       "Name: PaperlessBilling_numeric, Length: 10000, dtype: int64"
      ]
     },
     "execution_count": 77,
     "metadata": {},
     "output_type": "execute_result"
    }
   ],
   "source": [
    "# PaperlessBilling\n",
    "churn.loc[:,'PaperlessBilling_numeric']"
   ]
  },
  {
   "cell_type": "code",
   "execution_count": 78,
   "id": "bc9694b2-210f-4f93-97e0-d15615e40d53",
   "metadata": {},
   "outputs": [
    {
     "name": "stdout",
     "output_type": "stream",
     "text": [
      "<class 'pandas.core.frame.DataFrame'>\n",
      "Int64Index: 10000 entries, 1 to 10000\n",
      "Data columns (total 65 columns):\n",
      " #   Column                    Non-Null Count  Dtype  \n",
      "---  ------                    --------------  -----  \n",
      " 0   CaseOrder                 10000 non-null  int64  \n",
      " 1   Customer_id               10000 non-null  object \n",
      " 2   Interaction               10000 non-null  object \n",
      " 3   City                      10000 non-null  object \n",
      " 4   State                     10000 non-null  object \n",
      " 5   County                    10000 non-null  object \n",
      " 6   Zip                       10000 non-null  int64  \n",
      " 7   Lat                       10000 non-null  float64\n",
      " 8   Lng                       10000 non-null  float64\n",
      " 9   Population                10000 non-null  int64  \n",
      " 10  Area                      10000 non-null  object \n",
      " 11  Timezone                  10000 non-null  object \n",
      " 12  Job                       10000 non-null  object \n",
      " 13  Children                  10000 non-null  float64\n",
      " 14  Age                       10000 non-null  float64\n",
      " 15  Education                 10000 non-null  object \n",
      " 16  Employment                10000 non-null  object \n",
      " 17  Income                    10000 non-null  float64\n",
      " 18  Marital                   10000 non-null  object \n",
      " 19  Gender                    10000 non-null  object \n",
      " 20  Churn                     10000 non-null  object \n",
      " 21  Outage_sec_perweek        10000 non-null  float64\n",
      " 22  Email                     10000 non-null  int64  \n",
      " 23  Contacts                  10000 non-null  int64  \n",
      " 24  Yearly_equip_failure      10000 non-null  int64  \n",
      " 25  Techie                    10000 non-null  object \n",
      " 26  Contract                  10000 non-null  object \n",
      " 27  Port_modem                10000 non-null  object \n",
      " 28  Tablet                    10000 non-null  object \n",
      " 29  InternetService           10000 non-null  object \n",
      " 30  Phone                     10000 non-null  object \n",
      " 31  Multiple                  10000 non-null  object \n",
      " 32  OnlineSecurity            10000 non-null  object \n",
      " 33  OnlineBackup              10000 non-null  object \n",
      " 34  DeviceProtection          10000 non-null  object \n",
      " 35  TechSupport               10000 non-null  object \n",
      " 36  StreamingTV               10000 non-null  object \n",
      " 37  StreamingMovies           10000 non-null  object \n",
      " 38  PaperlessBilling          10000 non-null  object \n",
      " 39  PaymentMethod             10000 non-null  object \n",
      " 40  Tenure                    10000 non-null  float64\n",
      " 41  MonthlyCharge             10000 non-null  float64\n",
      " 42  Bandwidth_GB_Year         10000 non-null  float64\n",
      " 43  item1                     10000 non-null  int64  \n",
      " 44  item2                     10000 non-null  int64  \n",
      " 45  item3                     10000 non-null  int64  \n",
      " 46  item4                     10000 non-null  int64  \n",
      " 47  item5                     10000 non-null  int64  \n",
      " 48  item6                     10000 non-null  int64  \n",
      " 49  item7                     10000 non-null  int64  \n",
      " 50  item8                     10000 non-null  int64  \n",
      " 51  Education_numeric         10000 non-null  int64  \n",
      " 52  Churn_numeric             10000 non-null  int64  \n",
      " 53  Techie_numeric            10000 non-null  int64  \n",
      " 54  Port_modem_numeric        10000 non-null  int64  \n",
      " 55  Tablet_numeric            10000 non-null  int64  \n",
      " 56  Phone_numeric             10000 non-null  int64  \n",
      " 57  Multiple_numeric          10000 non-null  int64  \n",
      " 58  OnlineSecurity_numeric    10000 non-null  int64  \n",
      " 59  OnlineBackup_numeric      10000 non-null  int64  \n",
      " 60  DeviceProtection_numeric  10000 non-null  int64  \n",
      " 61  TechSupport_numeric       10000 non-null  int64  \n",
      " 62  StreamingTV_numeric       10000 non-null  int64  \n",
      " 63  StreamingMovies_numeric   10000 non-null  int64  \n",
      " 64  PaperlessBilling_numeric  10000 non-null  int64  \n",
      "dtypes: float64(9), int64(28), object(28)\n",
      "memory usage: 5.0+ MB\n"
     ]
    }
   ],
   "source": [
    "# Confirm new variables in the dataframe\n",
    "# (Western Governors University, Getting Started with D206 | Re-expression of Categorical Variables)\n",
    "churn.info()"
   ]
  },
  {
   "cell_type": "markdown",
   "id": "3793d91a-1768-4898-b5c5-41b96ad27310",
   "metadata": {
    "jp-MarkdownHeadingCollapsed": true
   },
   "source": [
    "#### 5.  Output to CSV"
   ]
  },
  {
   "cell_type": "code",
   "execution_count": 79,
   "id": "b49b4535-0d3e-4ed7-8906-7066284a852c",
   "metadata": {},
   "outputs": [],
   "source": [
    "# Output clean data set; CSV also included in submission\n",
    "# (Pandas.DataFrame.to_csv) \n",
    "churn.to_csv('churn_clean.csv')"
   ]
  },
  {
   "cell_type": "markdown",
   "id": "c0dee34a-11a8-4f91-8a11-a0b30b448a60",
   "metadata": {
    "jp-MarkdownHeadingCollapsed": true
   },
   "source": [
    "#### 6.  Limitations of Cleaning"
   ]
  },
  {
   "cell_type": "markdown",
   "id": "d2027b6d-48b2-49ee-becb-1f14930d10b5",
   "metadata": {},
   "source": [
    "&emsp;While duplicates were not detected using `duplicated()`, checking only for an exact copy of a row does not eliminate rows that may have slight variances but represent the same customer. With missing and null values detected using `isna()`, this would not catch every value considered missing, only that \"NA\" specifically was input. When performing univariate imputation on null values using `mean()`, `median()`, or `mode()`, the data set diversity is imperiled (Western Governors University, Getting Started with D206 | Detecting and Treating Missing Values). \n",
    "        \n",
    "&emsp;The outlier detection process using `hist()` and `boxplot()` was challenging without prior knowledge of the company's customer base. Having set rules for what is or isn't expected generally for value ranges would make the condition used within the `query()` function much more accurate to then impute using `fillna()` with `median()`. Regarding re-expression detection using `unique()` and treatment using a dictionary to then replace via `replace()`, this was a guess as to what might be helpful to re-express. Without firm knowledge of what may or may not be used, this could end up a waste of company resources. "
   ]
  },
  {
   "cell_type": "markdown",
   "id": "7e41faff-6812-4aeb-886b-9d862172f547",
   "metadata": {
    "jp-MarkdownHeadingCollapsed": true
   },
   "source": [
    "#### 7.  How Limitations Could Affect Analysis"
   ]
  },
  {
   "cell_type": "markdown",
   "id": "9aa77051-7901-4914-ba6e-2a45f3022a4c",
   "metadata": {},
   "source": [
    "&emsp;Analyzing the data set to answer the research question \"What causes a customer to discontinue service?\" could be impacted by the cleaning in several ways. Firstly, duplicate customers left in the set with slightly different information would not only waste time but could lead to skewed answers if even a moderate amount was missed. Values of \"NA\" being the only condition checked in null/missing value detection could be missing input variations of NA, or inputs such as \"not answered\". Without knowledge of what the options for input are, and leaving all other inputs besides \"NA\", the analyst is left to guess that all other input in the data should be considered for analysis.\n",
    "        \n",
    "&emsp;Outlier detection and treatment could be detrimental to analysis for someone without prior knowledge of what should be considered an outlier. While, in general, an outlier is an unexpected or unreasonable value, it would be a challenge for an analyst to determine what that means in relation to the variable, the company, or the industry as a whole. Outliers having been detected using purely distributions could skew findings, leading to miscalculations by the business on customer retention.\n",
    "\n",
    "&emsp;The re-expression of categorical variables adds up to the possibility of unwanted or unnecessary extra data to feed into the analysis. Without a solid idea of what variables warrant re-expressing for business needs and future research, the data could possibly contain multiple extra rows. without a clearer picture of what data will be used for and for what purpose in the analysis process, re-expression seems an unwarranted addition to the data set."
   ]
  },
  {
   "cell_type": "markdown",
   "id": "ebcc3c7f-6ad3-4935-8ae4-546a9339b8a7",
   "metadata": {},
   "source": [
    "### E.  Applying  Principal Component Analysis (PCA), Justification of Componant Reduction, and Benefits of PCA"
   ]
  },
  {
   "cell_type": "markdown",
   "id": "72a4ccb7-544b-4f76-a60f-ceccc3dd129e",
   "metadata": {
    "jp-MarkdownHeadingCollapsed": true
   },
   "source": [
    "#### 1. Principal Componant (PC) Count, PCA Code, and Loading Matrix"
   ]
  },
  {
   "cell_type": "markdown",
   "id": "940fe883-b8f9-40be-82d1-b687f0f8531b",
   "metadata": {},
   "source": [
    "&emsp;Variables Input: Income, Outage_sec_perweek, Tenure, MonthlyCharge, Bandwidth_GB_Year\n",
    "    \n",
    "&emsp;Number of principal componants: 5"
   ]
  },
  {
   "cell_type": "markdown",
   "id": "f1e083de-02cd-4bbe-bea4-0b6394f748c1",
   "metadata": {},
   "source": [
    "<div class=\"alert alert-block alert-info\"> <b>Note:</b> Principle component matrix provided below code. </div>"
   ]
  },
  {
   "cell_type": "code",
   "execution_count": 80,
   "id": "d56ae420-3615-4e61-8139-345135ebed7e",
   "metadata": {},
   "outputs": [
    {
     "data": {
      "text/html": [
       "<style>#sk-container-id-1 {color: black;background-color: white;}#sk-container-id-1 pre{padding: 0;}#sk-container-id-1 div.sk-toggleable {background-color: white;}#sk-container-id-1 label.sk-toggleable__label {cursor: pointer;display: block;width: 100%;margin-bottom: 0;padding: 0.3em;box-sizing: border-box;text-align: center;}#sk-container-id-1 label.sk-toggleable__label-arrow:before {content: \"▸\";float: left;margin-right: 0.25em;color: #696969;}#sk-container-id-1 label.sk-toggleable__label-arrow:hover:before {color: black;}#sk-container-id-1 div.sk-estimator:hover label.sk-toggleable__label-arrow:before {color: black;}#sk-container-id-1 div.sk-toggleable__content {max-height: 0;max-width: 0;overflow: hidden;text-align: left;background-color: #f0f8ff;}#sk-container-id-1 div.sk-toggleable__content pre {margin: 0.2em;color: black;border-radius: 0.25em;background-color: #f0f8ff;}#sk-container-id-1 input.sk-toggleable__control:checked~div.sk-toggleable__content {max-height: 200px;max-width: 100%;overflow: auto;}#sk-container-id-1 input.sk-toggleable__control:checked~label.sk-toggleable__label-arrow:before {content: \"▾\";}#sk-container-id-1 div.sk-estimator input.sk-toggleable__control:checked~label.sk-toggleable__label {background-color: #d4ebff;}#sk-container-id-1 div.sk-label input.sk-toggleable__control:checked~label.sk-toggleable__label {background-color: #d4ebff;}#sk-container-id-1 input.sk-hidden--visually {border: 0;clip: rect(1px 1px 1px 1px);clip: rect(1px, 1px, 1px, 1px);height: 1px;margin: -1px;overflow: hidden;padding: 0;position: absolute;width: 1px;}#sk-container-id-1 div.sk-estimator {font-family: monospace;background-color: #f0f8ff;border: 1px dotted black;border-radius: 0.25em;box-sizing: border-box;margin-bottom: 0.5em;}#sk-container-id-1 div.sk-estimator:hover {background-color: #d4ebff;}#sk-container-id-1 div.sk-parallel-item::after {content: \"\";width: 100%;border-bottom: 1px solid gray;flex-grow: 1;}#sk-container-id-1 div.sk-label:hover label.sk-toggleable__label {background-color: #d4ebff;}#sk-container-id-1 div.sk-serial::before {content: \"\";position: absolute;border-left: 1px solid gray;box-sizing: border-box;top: 0;bottom: 0;left: 50%;z-index: 0;}#sk-container-id-1 div.sk-serial {display: flex;flex-direction: column;align-items: center;background-color: white;padding-right: 0.2em;padding-left: 0.2em;position: relative;}#sk-container-id-1 div.sk-item {position: relative;z-index: 1;}#sk-container-id-1 div.sk-parallel {display: flex;align-items: stretch;justify-content: center;background-color: white;position: relative;}#sk-container-id-1 div.sk-item::before, #sk-container-id-1 div.sk-parallel-item::before {content: \"\";position: absolute;border-left: 1px solid gray;box-sizing: border-box;top: 0;bottom: 0;left: 50%;z-index: -1;}#sk-container-id-1 div.sk-parallel-item {display: flex;flex-direction: column;z-index: 1;position: relative;background-color: white;}#sk-container-id-1 div.sk-parallel-item:first-child::after {align-self: flex-end;width: 50%;}#sk-container-id-1 div.sk-parallel-item:last-child::after {align-self: flex-start;width: 50%;}#sk-container-id-1 div.sk-parallel-item:only-child::after {width: 0;}#sk-container-id-1 div.sk-dashed-wrapped {border: 1px dashed gray;margin: 0 0.4em 0.5em 0.4em;box-sizing: border-box;padding-bottom: 0.4em;background-color: white;}#sk-container-id-1 div.sk-label label {font-family: monospace;font-weight: bold;display: inline-block;line-height: 1.2em;}#sk-container-id-1 div.sk-label-container {text-align: center;}#sk-container-id-1 div.sk-container {/* jupyter's `normalize.less` sets `[hidden] { display: none; }` but bootstrap.min.css set `[hidden] { display: none !important; }` so we also need the `!important` here to be able to override the default hidden behavior on the sphinx rendered scikit-learn.org. See: https://github.com/scikit-learn/scikit-learn/issues/21755 */display: inline-block !important;position: relative;}#sk-container-id-1 div.sk-text-repr-fallback {display: none;}</style><div id=\"sk-container-id-1\" class=\"sk-top-container\"><div class=\"sk-text-repr-fallback\"><pre>PCA(n_components=5)</pre><b>In a Jupyter environment, please rerun this cell to show the HTML representation or trust the notebook. <br />On GitHub, the HTML representation is unable to render, please try loading this page with nbviewer.org.</b></div><div class=\"sk-container\" hidden><div class=\"sk-item\"><div class=\"sk-estimator sk-toggleable\"><input class=\"sk-toggleable__control sk-hidden--visually\" id=\"sk-estimator-id-1\" type=\"checkbox\" checked><label for=\"sk-estimator-id-1\" class=\"sk-toggleable__label sk-toggleable__label-arrow\">PCA</label><div class=\"sk-toggleable__content\"><pre>PCA(n_components=5)</pre></div></div></div></div></div>"
      ],
      "text/plain": [
       "PCA(n_components=5)"
      ]
     },
     "execution_count": 80,
     "metadata": {},
     "output_type": "execute_result"
    }
   ],
   "source": [
    "# Import packages, gather quantitative variables, normalize, create, and fit PCA\n",
    "# (Western Governors University, Getting Started with D206 | Principal Component Analysis (PCA))\n",
    "\n",
    "# Import necessary packages \n",
    "from sklearn.decomposition import PCA\n",
    "\n",
    "# Put continuous quantitative variables in their own set\n",
    "churn_cols = churn[['Income', 'Outage_sec_perweek', 'Tenure', 'MonthlyCharge', 'Bandwidth_GB_Year']]\n",
    "\n",
    "# Normalize continuous quantitative variables\n",
    "churn_normalized = (churn_cols - churn_cols.mean())/churn_cols.std()\n",
    "\n",
    "# Shape data based on number of PCs created\n",
    "pca = PCA(n_components = churn_cols.shape[1])\n",
    "\n",
    "# Fit the PCA onto normalized set\n",
    "pca.fit(churn_normalized)"
   ]
  },
  {
   "cell_type": "code",
   "execution_count": 81,
   "id": "8a16a0c8-ed0d-45b6-9b05-6cb6c68c7b87",
   "metadata": {},
   "outputs": [
    {
     "data": {
      "text/html": [
       "<div>\n",
       "<style scoped>\n",
       "    .dataframe tbody tr th:only-of-type {\n",
       "        vertical-align: middle;\n",
       "    }\n",
       "\n",
       "    .dataframe tbody tr th {\n",
       "        vertical-align: top;\n",
       "    }\n",
       "\n",
       "    .dataframe thead th {\n",
       "        text-align: right;\n",
       "    }\n",
       "</style>\n",
       "<table border=\"1\" class=\"dataframe\">\n",
       "  <thead>\n",
       "    <tr style=\"text-align: right;\">\n",
       "      <th></th>\n",
       "      <th>PC1</th>\n",
       "      <th>PC2</th>\n",
       "      <th>PC3</th>\n",
       "      <th>PC4</th>\n",
       "      <th>PC5</th>\n",
       "    </tr>\n",
       "  </thead>\n",
       "  <tbody>\n",
       "    <tr>\n",
       "      <th>Income</th>\n",
       "      <td>0.005358</td>\n",
       "      <td>-0.010190</td>\n",
       "      <td>0.997527</td>\n",
       "      <td>-0.069330</td>\n",
       "      <td>0.000765</td>\n",
       "    </tr>\n",
       "    <tr>\n",
       "      <th>Outage_sec_perweek</th>\n",
       "      <td>0.022372</td>\n",
       "      <td>0.705383</td>\n",
       "      <td>0.056171</td>\n",
       "      <td>0.706243</td>\n",
       "      <td>0.000159</td>\n",
       "    </tr>\n",
       "    <tr>\n",
       "      <th>Tenure</th>\n",
       "      <td>0.705362</td>\n",
       "      <td>-0.057892</td>\n",
       "      <td>-0.001355</td>\n",
       "      <td>0.035744</td>\n",
       "      <td>-0.705573</td>\n",
       "    </tr>\n",
       "    <tr>\n",
       "      <th>MonthlyCharge</th>\n",
       "      <td>0.045465</td>\n",
       "      <td>0.706316</td>\n",
       "      <td>-0.041891</td>\n",
       "      <td>-0.703553</td>\n",
       "      <td>-0.048063</td>\n",
       "    </tr>\n",
       "    <tr>\n",
       "      <th>Bandwidth_GB_Year</th>\n",
       "      <td>0.707013</td>\n",
       "      <td>-0.009906</td>\n",
       "      <td>-0.005292</td>\n",
       "      <td>-0.012241</td>\n",
       "      <td>0.707005</td>\n",
       "    </tr>\n",
       "  </tbody>\n",
       "</table>\n",
       "</div>"
      ],
      "text/plain": [
       "                         PC1       PC2       PC3       PC4       PC5\n",
       "Income              0.005358 -0.010190  0.997527 -0.069330  0.000765\n",
       "Outage_sec_perweek  0.022372  0.705383  0.056171  0.706243  0.000159\n",
       "Tenure              0.705362 -0.057892 -0.001355  0.035744 -0.705573\n",
       "MonthlyCharge       0.045465  0.706316 -0.041891 -0.703553 -0.048063\n",
       "Bandwidth_GB_Year   0.707013 -0.009906 -0.005292 -0.012241  0.707005"
      ]
     },
     "execution_count": 81,
     "metadata": {},
     "output_type": "execute_result"
    }
   ],
   "source": [
    "# Convert array to dataframe, output loadings\n",
    "# (Western Governors University, Getting Started with D206 | Principal Component Analysis (PCA))\n",
    "\n",
    "# Convert the array back into a dataframe\n",
    "churn_pca = pd.DataFrame(pca.transform(churn_normalized), columns = ['PC1', 'PC2', 'PC3', 'PC4', 'PC5'])\n",
    "\n",
    "# PCA loadings matrix:\n",
    "loadings = pd.DataFrame(pca.components_.T, columns = ['PC1', 'PC2', 'PC3', 'PC4', 'PC5'], index = churn_cols.columns)\n",
    "loadings"
   ]
  },
  {
   "cell_type": "markdown",
   "id": "8b0889ec-e2a5-4448-8534-621953d0aae4",
   "metadata": {},
   "source": [
    "#### 2.  PC Reduction Justification and Scree Plot"
   ]
  },
  {
   "cell_type": "markdown",
   "id": "094503a7-3f84-4389-b9ba-fe417e932889",
   "metadata": {},
   "source": [
    "&emsp;Using a scree plot to visualize the eigenvalues, it is apparent that principle components one through three (PC1, PC2, PC3) should be kept under the Kaiser Rule. The Kaiser Rule (or Kaiser Criterion) states that eigenvalues greater than one should be saved, while any values under one should be dropped (Western Governors University, Getting Started with D206 | Principal Component Analysis (PCA)). PC3 is a fraction over the cutoff of one but is nonetheless over one, so it should also be kept. According to the eigenvalues (printed below) and the scree plot, PC4 and PC5 should not be kept."
   ]
  },
  {
   "cell_type": "markdown",
   "id": "9b8ca2e8-5f63-417b-b108-319b55be8145",
   "metadata": {},
   "source": [
    "<div class=\"alert alert-block alert-info\"> <b>Note:</b> Scree plot provided below code. </div>"
   ]
  },
  {
   "cell_type": "code",
   "execution_count": 82,
   "id": "751a6396-727d-4f3c-b579-f5650dc5a814",
   "metadata": {},
   "outputs": [
    {
     "data": {
      "text/plain": [
       "[1.8959674071642412,\n",
       " 1.1300039866172107,\n",
       " 1.0004923988352674,\n",
       " 0.8692099686138614,\n",
       " 0.10382623876939047]"
      ]
     },
     "execution_count": 82,
     "metadata": {},
     "output_type": "execute_result"
    }
   ],
   "source": [
    "# Calculate and output eigenvalues\n",
    "# (Western Governors University, Getting Started with D206 | Principal Component Analysis (PCA))\n",
    "\n",
    "# Select PCs\n",
    "cov_matrix = np.dot(churn_normalized.T, churn_normalized) / churn_cols.shape[0]\n",
    "eigenvalues = [np.dot(eigenvector.T, np.dot(cov_matrix, eigenvector)) for eigenvector in pca.components_]\n",
    "eigenvalues"
   ]
  },
  {
   "cell_type": "code",
   "execution_count": 83,
   "id": "56eca45b-34ee-4c51-b678-ec6f209f5e43",
   "metadata": {},
   "outputs": [
    {
     "data": {
      "image/png": "[encoded data removed]",
      "text/plain": [
       "<Figure size 640x480 with 1 Axes>"
      ]
     },
     "metadata": {},
     "output_type": "display_data"
    }
   ],
   "source": [
    "# Visualize eigenvalues using a scree plot\n",
    "# (Western Governors University, Getting Started with D206 | Principal Component Analysis (PCA))\n",
    "\n",
    "plt.title('Churn PC Scree Plot') # Title function: (Matplotlib.pyplot.title)/matplotlib.pyplot.title.html\n",
    "plt.plot(eigenvalues)\n",
    "plt.xlabel('Number of Components') \n",
    "plt.locator_params(axis = 'x', nbins = 5 ) # Locator_params function: (Matplotlib.axes.axes.locator_params) \n",
    "plt.ylabel('Eigenvalue') \n",
    "plt.locator_params(axis = 'y', nbins = 4)  # Locator_params function: (Matplotlib.axes.axes.locator_params) \n",
    "plt.axhline(y = 1, color = \"red\")\n",
    "plt.show()"
   ]
  },
  {
   "cell_type": "markdown",
   "id": "b756e63c-7de8-4247-b7f6-c43640cbc8e2",
   "metadata": {},
   "source": [
    "<div class=\"alert alert-block alert-warning\">\n",
    "<b>Alert:</b> Scree plot screenshot below. </div>"
   ]
  },
  {
   "attachments": {
    "3652ec57-15b7-4da5-873c-01a95678cae1.png": {
     "image/png": "[encoded data removed]"
    }
   },
   "cell_type": "markdown",
   "id": "8a956230-10ba-403a-ac1c-52f750afba65",
   "metadata": {},
   "source": [
    "![PCA Scree Plot.png](attachment:3652ec57-15b7-4da5-873c-01a95678cae1.png)"
   ]
  },
  {
   "cell_type": "markdown",
   "id": "2fcbfed3-1a42-4c56-86fd-6535b7281093",
   "metadata": {
    "jp-MarkdownHeadingCollapsed": true
   },
   "source": [
    "#### 3.  Benefits of PCA"
   ]
  },
  {
   "cell_type": "markdown",
   "id": "d0e8fcae-335f-4763-bef0-53c201aab082",
   "metadata": {},
   "source": [
    "&emsp;The telecommunications company can benefit from using principle component analysis (PCA) to reduce the dimensionality of its data set and set apart features that have the greatest impact on the given research question (What is Principal Component Analysis (PCA) &amp; How to use it? 2023). PCA can represent multivariate data in smaller, bit-size components to more easily observe trends, clusters, and outliers. These components can then be used to visualize more easily, and more quickly analyze the data than its multi-dimensional counterparts. Using PCA, the company can analyze broader trends in customer churn without having to run an analysis on every variable in the data set. For example, using PCA on the cleaned data set from this project brings the number of features from five down to three components with greater importance than any single variable has on its own. PCA can reveal previously imperceptible relationships between and among variables while having the added benefit of needing less computing power, saving the company money when running complex models. (What is Principal Component Analysis (PCA) &amp; How to use it? 2023)"
   ]
  },
  {
   "cell_type": "markdown",
   "id": "374ee96d-1390-4c07-8a4a-8d971cee8553",
   "metadata": {
    "jp-MarkdownHeadingCollapsed": true
   },
   "source": [
    "## Part IV. Supporting Documents"
   ]
  },
  {
   "cell_type": "markdown",
   "id": "04b409c0-94fb-44f0-aa2e-036298c15f8f",
   "metadata": {
    "jp-MarkdownHeadingCollapsed": true
   },
   "source": [
    "### F.  Panopto Video"
   ]
  },
  {
   "cell_type": "markdown",
   "id": "456a4ead-7a0f-4363-abd5-5a6fdd372747",
   "metadata": {},
   "source": [
    "https://wgu.hosted.panopto.com/Panopto/Pages/Viewer.aspx?id=9d392338-338f-4b1d-a8ee-b09d0189ea4a"
   ]
  },
  {
   "cell_type": "markdown",
   "id": "5c93227f-22ca-4899-b6bc-27f3d4c6d040",
   "metadata": {},
   "source": [
    "<div class=\"alert alert-block alert-info\"> <b>Note:</b> Ponapto video also included with submission. </div> "
   ]
  },
  {
   "cell_type": "markdown",
   "id": "71ead44c-97a7-42d4-b0fc-859f28087b8d",
   "metadata": {
    "jp-MarkdownHeadingCollapsed": true
   },
   "source": [
    "### G.  Code References"
   ]
  },
  {
   "cell_type": "markdown",
   "id": "1fa81cb1-ba4e-47bf-8a78-2832b6bdccdd",
   "metadata": {
    "jp-MarkdownHeadingCollapsed": true
   },
   "source": [
    "> Bobbitt, Z. (2022, August 19). Pandas: How to use first column as index. Statology. https://www.statology.org/pandas-use-first-column-as-index/ \n",
    "\n",
    "> Ebner, J. (2021, July 27). How to count unique values in python. Sharp Sight. https://www.sharpsightlabs.com/blog/pandas-value_counts/ \n",
    "\n",
    "> Matplotlib. (n.d.). Matplotlib.axes.axes.locator_params. matplotlib.axes.Axes.locator_params - Matplotlib 3.8.0 documentation. https://matplotlib.org/stable/api/_as_gen/matplotlib.axes.Axes.locator_params.html \n",
    "\n",
    "> Matplotlib. (n.d.). Matplotlib.pyplot.title. matplotlib.pyplot.title - Matplotlib 3.8.0 documentation. https://matplotlib.org/stable/api/_as_gen/matplotlib.pyplot.title.html \n",
    "\n",
    "> Pandas. (n.d.). Pandas.DataFrame.astype. pandas.DataFrame.astype - pandas 2.1.1 documentation. https://pandas.pydata.org/docs/reference/api/pandas.DataFrame.astype.html \n",
    "\n",
    "> Pandas. (n.d.). Pandas.DataFrame.loc. pandas.DataFrame.loc - pandas 2.1.1 documentation. https://pandas.pydata.org/docs/reference/api/pandas.DataFrame.loc.html \n",
    "\n",
    "> Pandas. (n.d.). Pandas.DataFrame.to_csv. pandas.DataFrame.to_csv - pandas 2.1.1 documentation. https://pandas.pydata.org/docs/reference/api/pandas.DataFrame.to_csv.html \n",
    "\n",
    "> Petrou, T. (2019, November 1). Finding the percentage of missing values in a pandas DataFrame. Dunder Data. https://www.dunderdata.com/blog/finding-the-percentage-of-missing-values-in-a-pandas-dataframe \n",
    "\n",
    "> Saturn Cloud. (2023, June 19). How to round a single column in Pandas. Saturn Cloud Blog. https://saturncloud.io/blog/how-to-round-a-single-column-in-pandas/ \n",
    "\n",
    "> Western Governors University. (n.d.). Getting Started with D206 | Data Cleaning Essentials. WGU Course Material. Retrieved September 19, 2023, from https://wgu.hosted.panopto.com/Panopto/Pages/Embed.aspx?id=ce8895c0-17f6-45bc-80e8-b0570177bcca. \n",
    "\n",
    "> Western Governors University. (n.d.-a). Getting Started with D206 | Detecting and Treating Duplicates. WGU Course Material. Retrieved September 6, 2023, from https://wgu.hosted.panopto.com/Panopto/Pages/Embed.aspx?id=6eedfad4-240e-4c5c-8eab-b058003d3e6b. \n",
    "\n",
    "> Western Governors University. (n.d.-b). Getting Started with D206 | Detecting and Treating Missing Values. WGU Course Material. Retrieved September 26, 2023, from https://wgu.hosted.panopto.com/Panopto/Pages/Embed.aspx?id=767749d2-ba19-4f94-bec8-b058017b2f5e. \n",
    "\n",
    "> Western Governors University. (n.d.-c). Getting Started with D206 | Detecting and Treating Outliers. WGU Course Material. Retrieved October 9, 2023, from https://wgu.hosted.panopto.com/Panopto/Pages/Embed.aspx?id=19c24c56-0f37-408e-bb1f-b059002a77ac. \n",
    "\n",
    "> Western Governors University. (n.d.-d). Getting Started with D206 | Principal Component Analysis (PCA). WGU Course Material. Retrieved October 12, 2023, from https://wgu.hosted.panopto.com/Panopto/Pages/Embed.aspx?id=3bcc452f-fa35-43be-b69f-b05901356f95.\n",
    "\n",
    "> Western Governors University. (n.d.-e). Getting Started with D206 | Re-expression of Categorical Variables. WGU Course Material. Retrieved October 11, 2023, from https://wgu.hosted.panopto.com/Panopto/Pages/Embed.aspx?id=bd7b8541-77ba-42e0-80a4-b059010bc790. \n"
   ]
  },
  {
   "cell_type": "markdown",
   "id": "5974a2df-2f85-4961-91ad-8c20db8c2542",
   "metadata": {
    "jp-MarkdownHeadingCollapsed": true
   },
   "source": [
    "### H.  Content References"
   ]
  },
  {
   "cell_type": "markdown",
   "id": "c045746b-dc70-433f-a1a8-aa8634d543fa",
   "metadata": {
    "jp-MarkdownHeadingCollapsed": true
   },
   "source": [
    "> Bigabid. (2023, February 8). What is Principal Component Analysis (PCA) &amp; How to use it?. Bigabid. https://www.bigabid.com/what-is-pca-and-how-can-i-use-it/ \n",
    "\n",
    "> Pandas. (n.d.). Pandas.dataframe.isna. pandas.DataFrame.isna - pandas 2.1.1 documentation. https://pandas.pydata.org/docs/reference/api/pandas.DataFrame.isna.html \n",
    "\n",
    "> Seaborn. (n.d.). Statistical Data Visualization. Seaborn. https://seaborn.pydata.org/ \n",
    "\n",
    "> Western Governors University. (2023, July 7). R or python. Western Governors University. https://www.wgu.edu/online-it-degrees/programming-languages/r-or-python.html#_ \n",
    "\n",
    "> Western Governors University. (n.d.). Getting Started with D206 | Detecting and Treating Missing Values. WGU Course Material. Retrieved September 26, 2023, from https://wgu.hosted.panopto.com/Panopto/Pages/Embed.aspx?id=767749d2-ba19-4f94-bec8-b058017b2f5e. \n",
    "\n",
    "> Western Governors University. (n.d.-a). Getting Started with D206 | Principal Component Analysis (PCA). WGU Course Material. Retrieved October 12, 2023, from https://wgu.hosted.panopto.com/Panopto/Pages/Embed.aspx?id=3bcc452f-fa35-43be-b69f-b05901356f95.\n",
    "\n",
    "> Western Governors University. (n.d.-b). Getting Started with D206 | Re-expression of Categorical Variables. WGU Course Material . Retrieved October 11, 2023, from https://wgu.hosted.panopto.com/Panopto/Pages/Embed.aspx?id=bd7b8541-77ba-42e0-80a4-b059010bc790. "
   ]
  }
 ],
 "metadata": {
  "kernelspec": {
   "display_name": "Python 3 (ipykernel)",
   "language": "python",
   "name": "python3"
  },
  "language_info": {
   "codemirror_mode": {
    "name": "ipython",
    "version": 3
   },
   "file_extension": ".py",
   "mimetype": "text/x-python",
   "name": "python",
   "nbconvert_exporter": "python",
   "pygments_lexer": "ipython3",
   "version": "3.10.9"
  }
 },
 "nbformat": 4,
 "nbformat_minor": 5
}
